{
 "cells": [
  {
   "cell_type": "markdown",
   "metadata": {},
   "source": [
    "# Table of Contets\n",
    "0. [Preprocess](#0)\n",
    "\n",
    "1. [Classical machine learning models](#1)\n",
    "    1.1 [Logistic Regression](#1-1)  \n",
    "    1.2 [SVM](#1-2)\n",
    "    1.3 [Tree Ensemble](#1-3)\n",
    "2. [Deeplearning models](#2)\n",
    "    2.1 [Fully Connected Network](#2-1)\n",
    "    2.2 [Convolutional Network](#2-2)\n",
    "    2.3 [Recurrent Network](#2-3)\n",
    "3. [Visualization](#3)\n",
    "4. [Summary and Conclusion](#4)\n"
   ]
  },
  {
   "cell_type": "markdown",
   "metadata": {},
   "source": [
    "# Preprocess <a class=\"anchor\" id=\"0\"></a>"
   ]
  },
  {
   "cell_type": "code",
   "execution_count": 1,
   "metadata": {},
   "outputs": [],
   "source": [
    "import warnings\n",
    "warnings.filterwarnings(\"ignore\")"
   ]
  },
  {
   "cell_type": "code",
   "execution_count": 2,
   "metadata": {},
   "outputs": [],
   "source": [
    "import numpy as np\n",
    "import pandas as pd\n",
    "from collections import defaultdict"
   ]
  },
  {
   "cell_type": "code",
   "execution_count": 3,
   "metadata": {},
   "outputs": [],
   "source": [
    "data_path = \"./data/splice.data\""
   ]
  },
  {
   "cell_type": "code",
   "execution_count": 4,
   "metadata": {},
   "outputs": [
    {
     "data": {
      "text/plain": [
       "3190"
      ]
     },
     "execution_count": 4,
     "metadata": {},
     "output_type": "execute_result"
    }
   ],
   "source": [
    "df = pd.read_csv(data_path, header=None, names=[\"class\", \"name\", \"seq\"])\n",
    "len(df)"
   ]
  },
  {
   "cell_type": "code",
   "execution_count": 5,
   "metadata": {},
   "outputs": [],
   "source": [
    "# blank handling\n",
    "df['class'] = df['class'].apply(lambda x: x.strip())\n",
    "df['name'] = df['name'].apply(lambda x: x.strip())\n",
    "df['seq'] = df['seq'].apply(lambda x: x.strip())"
   ]
  },
  {
   "cell_type": "code",
   "execution_count": 6,
   "metadata": {},
   "outputs": [
    {
     "data": {
      "text/plain": [
       "186"
      ]
     },
     "execution_count": 6,
     "metadata": {},
     "output_type": "execute_result"
    }
   ],
   "source": [
    "# remove redundant rows\n",
    "drop_index = list()\n",
    "for seq in df['seq'].unique():\n",
    "    rows = df[df['seq'] == seq]\n",
    "    if len(rows) > 1:\n",
    "        if len(rows[\"class\"].unique()) != 1:\n",
    "            drop_index += list(rows.index)\n",
    "        else:\n",
    "            drop_index += list(rows.index[1:])\n",
    "len(drop_index)"
   ]
  },
  {
   "cell_type": "code",
   "execution_count": 7,
   "metadata": {},
   "outputs": [
    {
     "data": {
      "text/plain": [
       "3004"
      ]
     },
     "execution_count": 7,
     "metadata": {},
     "output_type": "execute_result"
    }
   ],
   "source": [
    "df.drop(index=drop_index, inplace=True)\n",
    "len(df)"
   ]
  },
  {
   "cell_type": "code",
   "execution_count": 8,
   "metadata": {},
   "outputs": [
    {
     "data": {
      "text/plain": [
       "1"
      ]
     },
     "execution_count": 8,
     "metadata": {},
     "output_type": "execute_result"
    }
   ],
   "source": [
    "# check no more redundant row\n",
    "max(df['seq'].value_counts())"
   ]
  },
  {
   "cell_type": "code",
   "execution_count": 9,
   "metadata": {},
   "outputs": [],
   "source": [
    "# target label\n",
    "y = df['class'].values"
   ]
  },
  {
   "cell_type": "code",
   "execution_count": 10,
   "metadata": {},
   "outputs": [
    {
     "data": {
      "text/plain": [
       "defaultdict(<function __main__.<lambda>()>,\n",
       "            {'C': 47093,\n",
       "             'A': 42134,\n",
       "             'G': 47315,\n",
       "             'T': 43638,\n",
       "             'N': 56,\n",
       "             'D': 2,\n",
       "             'R': 1,\n",
       "             'S': 1})"
      ]
     },
     "execution_count": 10,
     "metadata": {},
     "output_type": "execute_result"
    }
   ],
   "source": [
    "# input handling\n",
    "count_dict= defaultdict(lambda:0)\n",
    "seqs = df['seq'].values\n",
    "for seq in seqs:\n",
    "    for b in seq:\n",
    "        count_dict[b]+=1\n",
    "# base count\n",
    "count_dict"
   ]
  },
  {
   "cell_type": "code",
   "execution_count": 11,
   "metadata": {},
   "outputs": [
    {
     "data": {
      "text/plain": [
       "{'C': 0, 'A': 1, 'G': 2, 'T': 3, 'N': 4, 'D': 5, 'R': 6, 'S': 7}"
      ]
     },
     "execution_count": 11,
     "metadata": {},
     "output_type": "execute_result"
    }
   ],
   "source": [
    "# build base dictionary\n",
    "base_dict = {k:v for k, v in enumerate(count_dict.keys())}\n",
    "base_dict_inv = {v:k for k,v in base_dict.items()}\n",
    "base_dict_inv"
   ]
  },
  {
   "cell_type": "code",
   "execution_count": 12,
   "metadata": {},
   "outputs": [
    {
     "data": {
      "text/plain": [
       "((3004, 60), (3004, 60, 8), (3004, 480))"
      ]
     },
     "execution_count": 12,
     "metadata": {},
     "output_type": "execute_result"
    }
   ],
   "source": [
    "# encode \n",
    "def encode_seq(seq):\n",
    "    return [base_dict_inv[b] for b in seq]\n",
    "X = np.array(list(map(encode_seq, seqs)))\n",
    "X_onehot = np.array([np.array([np.eye(len(base_dict), dtype=np.uint8)[i] for i in row])for row in X])\n",
    "X_onehot_unfold = X_onehot.reshape([X_onehot.shape[0], -1])\n",
    "X.shape , X_onehot.shape , X_onehot_unfold.shape"
   ]
  },
  {
   "cell_type": "code",
   "execution_count": 13,
   "metadata": {},
   "outputs": [],
   "source": [
    "from sklearn.model_selection import train_test_split"
   ]
  },
  {
   "cell_type": "code",
   "execution_count": 14,
   "metadata": {},
   "outputs": [
    {
     "data": {
      "text/plain": [
       "(2403, 601)"
      ]
     },
     "execution_count": 14,
     "metadata": {},
     "output_type": "execute_result"
    }
   ],
   "source": [
    "# use one-hot input\n",
    "X_train, X_test, y_train, y_test = train_test_split(X_onehot, y, test_size=0.2)\n",
    "len(X_train), len(X_test)"
   ]
  },
  {
   "cell_type": "markdown",
   "metadata": {},
   "source": [
    "# Classical machine learning models <a class=\"anchor\" id=\"1\"></a>\n"
   ]
  },
  {
   "cell_type": "code",
   "execution_count": 15,
   "metadata": {},
   "outputs": [],
   "source": [
    "def make_input_classic(X_):\n",
    "    return X_.reshape(X_.shape[0], -1)"
   ]
  },
  {
   "cell_type": "markdown",
   "metadata": {},
   "source": [
    "## Logistic regression <a class=\"anchor\" id=\"1-1\"></a>"
   ]
  },
  {
   "cell_type": "code",
   "execution_count": 16,
   "metadata": {},
   "outputs": [],
   "source": [
    "from sklearn.linear_model import LogisticRegression\n",
    "from sklearn.model_selection import GridSearchCV"
   ]
  },
  {
   "cell_type": "code",
   "execution_count": 17,
   "metadata": {},
   "outputs": [],
   "source": [
    "logreg = LogisticRegression()\n",
    "grid={\"C\":np.logspace(-3,3,7), \"penalty\":[\"l1\",\"l2\"]}# l1 lasso l2 ridge\n",
    "logreg_cv=GridSearchCV(logreg,grid, cv=10, n_jobs=5)"
   ]
  },
  {
   "cell_type": "code",
   "execution_count": 18,
   "metadata": {},
   "outputs": [
    {
     "name": "stdout",
     "output_type": "stream",
     "text": [
      "CPU times: user 381 ms, sys: 39.3 ms, total: 421 ms\n",
      "Wall time: 20 s\n"
     ]
    },
    {
     "data": {
      "text/plain": [
       "GridSearchCV(cv=10, error_score='raise-deprecating',\n",
       "       estimator=LogisticRegression(C=1.0, class_weight=None, dual=False, fit_intercept=True,\n",
       "          intercept_scaling=1, max_iter=100, multi_class='warn',\n",
       "          n_jobs=None, penalty='l2', random_state=None, solver='warn',\n",
       "          tol=0.0001, verbose=0, warm_start=False),\n",
       "       fit_params=None, iid='warn', n_jobs=5,\n",
       "       param_grid={'C': array([1.e-03, 1.e-02, 1.e-01, 1.e+00, 1.e+01, 1.e+02, 1.e+03]), 'penalty': ['l1', 'l2']},\n",
       "       pre_dispatch='2*n_jobs', refit=True, return_train_score='warn',\n",
       "       scoring=None, verbose=0)"
      ]
     },
     "execution_count": 18,
     "metadata": {},
     "output_type": "execute_result"
    }
   ],
   "source": [
    "%%time\n",
    "# unfold and fit\n",
    "logreg_cv.fit(make_input_classic(X_train) ,y_train)"
   ]
  },
  {
   "cell_type": "code",
   "execution_count": 19,
   "metadata": {},
   "outputs": [
    {
     "name": "stdout",
     "output_type": "stream",
     "text": [
      "tuned hpyerparameters :(best parameters)  {'C': 0.1, 'penalty': 'l1'}\n",
      "accuracy : 0.9550561797752809\n"
     ]
    }
   ],
   "source": [
    "print(\"tuned hpyerparameters :(best parameters) \",logreg_cv.best_params_)\n",
    "print(\"accuracy :\",logreg_cv.best_score_)"
   ]
  },
  {
   "cell_type": "code",
   "execution_count": 20,
   "metadata": {},
   "outputs": [
    {
     "data": {
      "text/plain": [
       "LogisticRegression(C=0.1, class_weight=None, dual=False, fit_intercept=True,\n",
       "          intercept_scaling=1, max_iter=100, multi_class='warn',\n",
       "          n_jobs=None, penalty='l1', random_state=None, solver='warn',\n",
       "          tol=0.0001, verbose=0, warm_start=False)"
      ]
     },
     "execution_count": 20,
     "metadata": {},
     "output_type": "execute_result"
    }
   ],
   "source": [
    "logreg_best=LogisticRegression(**logreg_cv.best_params_)\n",
    "logreg_best.fit(make_input_classic(X_train) ,y_train)"
   ]
  },
  {
   "cell_type": "code",
   "execution_count": 21,
   "metadata": {},
   "outputs": [
    {
     "name": "stdout",
     "output_type": "stream",
     "text": [
      "train score: 0.9646\n",
      "test  score: 0.9667\n"
     ]
    }
   ],
   "source": [
    "print(\"train score: %.4f\" % logreg_best.score(make_input_classic(X_train), y_train))\n",
    "print(\"test  score: %.4f\" % logreg_best.score(make_input_classic(X_test), y_test))"
   ]
  },
  {
   "cell_type": "markdown",
   "metadata": {},
   "source": [
    "## SVM <a class=\"anchor\" id=\"1-2\"></a>"
   ]
  },
  {
   "cell_type": "code",
   "execution_count": 22,
   "metadata": {},
   "outputs": [],
   "source": [
    "from sklearn.svm import SVC, LinearSVC"
   ]
  },
  {
   "cell_type": "code",
   "execution_count": 23,
   "metadata": {},
   "outputs": [],
   "source": [
    "svm = SVC()\n",
    "grid = {'kernel':('linear', 'rbf'), 'C':(1,0.25,0.5,0.75),'gamma': (1,2,3,'auto'),'decision_function_shape':('ovo','ovr'),'shrinking':(True,False)}\n",
    "svm_cv = GridSearchCV(svm, grid, cv=10, n_jobs=5)"
   ]
  },
  {
   "cell_type": "code",
   "execution_count": 24,
   "metadata": {},
   "outputs": [
    {
     "name": "stdout",
     "output_type": "stream",
     "text": [
      "CPU times: user 4.73 s, sys: 197 ms, total: 4.93 s\n",
      "Wall time: 22min 46s\n"
     ]
    },
    {
     "data": {
      "text/plain": [
       "GridSearchCV(cv=10, error_score='raise-deprecating',\n",
       "       estimator=SVC(C=1.0, cache_size=200, class_weight=None, coef0=0.0,\n",
       "  decision_function_shape='ovr', degree=3, gamma='auto_deprecated',\n",
       "  kernel='rbf', max_iter=-1, probability=False, random_state=None,\n",
       "  shrinking=True, tol=0.001, verbose=False),\n",
       "       fit_params=None, iid='warn', n_jobs=5,\n",
       "       param_grid={'kernel': ('linear', 'rbf'), 'C': (1, 0.25, 0.5, 0.75), 'gamma': (1, 2, 3, 'auto'), 'decision_function_shape': ('ovo', 'ovr'), 'shrinking': (True, False)},\n",
       "       pre_dispatch='2*n_jobs', refit=True, return_train_score='warn',\n",
       "       scoring=None, verbose=0)"
      ]
     },
     "execution_count": 24,
     "metadata": {},
     "output_type": "execute_result"
    }
   ],
   "source": [
    "%%time\n",
    "# unfold and fit\n",
    "svm_cv.fit(make_input_classic(X_train) ,y_train)"
   ]
  },
  {
   "cell_type": "code",
   "execution_count": 25,
   "metadata": {},
   "outputs": [
    {
     "name": "stdout",
     "output_type": "stream",
     "text": [
      "tuned hpyerparameters :(best parameters)  {'C': 1, 'decision_function_shape': 'ovo', 'gamma': 'auto', 'kernel': 'rbf', 'shrinking': True}\n",
      "accuracy : 0.9571369121930919\n"
     ]
    }
   ],
   "source": [
    "print(\"tuned hpyerparameters :(best parameters) \",svm_cv.best_params_)\n",
    "print(\"accuracy :\",svm_cv.best_score_)"
   ]
  },
  {
   "cell_type": "code",
   "execution_count": 26,
   "metadata": {},
   "outputs": [
    {
     "data": {
      "text/plain": [
       "SVC(C=1, cache_size=200, class_weight=None, coef0=0.0,\n",
       "  decision_function_shape='ovo', degree=3, gamma='auto', kernel='rbf',\n",
       "  max_iter=-1, probability=False, random_state=None, shrinking=True,\n",
       "  tol=0.001, verbose=False)"
      ]
     },
     "execution_count": 26,
     "metadata": {},
     "output_type": "execute_result"
    }
   ],
   "source": [
    "svm_best=SVC(**svm_cv.best_params_)\n",
    "svm_best.fit(make_input_classic(X_train) ,y_train)"
   ]
  },
  {
   "cell_type": "code",
   "execution_count": 27,
   "metadata": {},
   "outputs": [
    {
     "name": "stdout",
     "output_type": "stream",
     "text": [
      "train score: 0.9655\n",
      "test  score: 0.9517\n"
     ]
    }
   ],
   "source": [
    "print(\"train score: %.4f\" % svm_best.score(make_input_classic(X_train), y_train))\n",
    "print(\"test  score: %.4f\" % svm_best.score(make_input_classic(X_test), y_test))"
   ]
  },
  {
   "cell_type": "markdown",
   "metadata": {},
   "source": [
    "## Tree Ensemble <a class=\"anchor\" id=\"1-3\"></a>"
   ]
  },
  {
   "cell_type": "code",
   "execution_count": 28,
   "metadata": {},
   "outputs": [],
   "source": [
    "from xgboost import XGBClassifier"
   ]
  },
  {
   "cell_type": "code",
   "execution_count": 29,
   "metadata": {},
   "outputs": [],
   "source": [
    "xgb_model = XGBClassifier()"
   ]
  },
  {
   "cell_type": "code",
   "execution_count": 30,
   "metadata": {},
   "outputs": [],
   "source": [
    "grid = {'nthread':[4], #when use hyperthread, xgboost may become slower\n",
    "              'objective':['multi:softmax'],\n",
    "              \"num_class\":[len(df['class'].unique())],\n",
    "              'learning_rate': [0.02], #so called `eta` value\n",
    "              'max_depth': [8],\n",
    "              'min_child_weight': [1,0],\n",
    "              'silent': [1],\n",
    "              'gamma':[0.5, 1.0],\n",
    "              'subsample': [0.8, 1.0],\n",
    "              'colsample_bytree': [0.8, 1.0],\n",
    "              'n_estimators': [1000], #number of trees, change it to 1000 for better results\n",
    "              'tree_method': ['gpu_hist'],\n",
    "              'missing':[-999]}"
   ]
  },
  {
   "cell_type": "code",
   "execution_count": 31,
   "metadata": {},
   "outputs": [],
   "source": [
    "xgb_cv = GridSearchCV(xgb_model, grid, n_jobs=5, \n",
    "                   cv=5, \n",
    "                   verbose=2, refit=True)"
   ]
  },
  {
   "cell_type": "code",
   "execution_count": 32,
   "metadata": {},
   "outputs": [
    {
     "name": "stdout",
     "output_type": "stream",
     "text": [
      "Fitting 5 folds for each of 16 candidates, totalling 80 fits\n"
     ]
    },
    {
     "name": "stderr",
     "output_type": "stream",
     "text": [
      "[Parallel(n_jobs=5)]: Using backend LokyBackend with 5 concurrent workers.\n",
      "[Parallel(n_jobs=5)]: Done  31 tasks      | elapsed: 18.8min\n",
      "[Parallel(n_jobs=5)]: Done  80 out of  80 | elapsed: 45.7min finished\n"
     ]
    },
    {
     "name": "stdout",
     "output_type": "stream",
     "text": [
      "CPU times: user 49.2 s, sys: 2.32 s, total: 51.5 s\n",
      "Wall time: 45min 53s\n"
     ]
    },
    {
     "data": {
      "text/plain": [
       "GridSearchCV(cv=5, error_score='raise-deprecating',\n",
       "       estimator=XGBClassifier(base_score=0.5, booster='gbtree', colsample_bylevel=1,\n",
       "       colsample_bytree=1, gamma=0, learning_rate=0.1, max_delta_step=0,\n",
       "       max_depth=3, min_child_weight=1, missing=None, n_estimators=100,\n",
       "       n_jobs=1, nthread=None, objective='binary:logistic', random_state=0,\n",
       "       reg_alpha=0, reg_lambda=1, scale_pos_weight=1, seed=None,\n",
       "       silent=True, subsample=1),\n",
       "       fit_params=None, iid='warn', n_jobs=5,\n",
       "       param_grid={'nthread': [4], 'objective': ['multi:softmax'], 'num_class': [3], 'learning_rate': [0.02], 'max_depth': [8], 'min_child_weight': [1, 0], 'silent': [1], 'gamma': [0.5, 1.0], 'subsample': [0.8, 1.0], 'colsample_bytree': [0.8, 1.0], 'n_estimators': [1000], 'tree_method': ['gpu_hist'], 'missing': [-999]},\n",
       "       pre_dispatch='2*n_jobs', refit=True, return_train_score='warn',\n",
       "       scoring=None, verbose=2)"
      ]
     },
     "execution_count": 32,
     "metadata": {},
     "output_type": "execute_result"
    }
   ],
   "source": [
    "%%time\n",
    "xgb_cv.fit(make_input_classic(X_train) ,y_train)"
   ]
  },
  {
   "cell_type": "code",
   "execution_count": 33,
   "metadata": {},
   "outputs": [
    {
     "name": "stdout",
     "output_type": "stream",
     "text": [
      "tuned hpyerparameters :(best parameters)  {'colsample_bytree': 1.0, 'gamma': 0.5, 'learning_rate': 0.02, 'max_depth': 8, 'min_child_weight': 1, 'missing': -999, 'n_estimators': 1000, 'nthread': 4, 'num_class': 3, 'objective': 'multi:softmax', 'silent': 1, 'subsample': 0.8, 'tree_method': 'gpu_hist'}\n",
      "accuracy : 0.9592176446109031\n"
     ]
    }
   ],
   "source": [
    "print(\"tuned hpyerparameters :(best parameters) \",xgb_cv.best_params_)\n",
    "print(\"accuracy :\",xgb_cv.best_score_)"
   ]
  },
  {
   "cell_type": "code",
   "execution_count": 34,
   "metadata": {},
   "outputs": [
    {
     "data": {
      "text/plain": [
       "XGBClassifier(base_score=0.5, booster='gbtree', colsample_bylevel=1,\n",
       "       colsample_bytree=1.0, gamma=0.5, learning_rate=0.02,\n",
       "       max_delta_step=0, max_depth=8, min_child_weight=1, missing=-999,\n",
       "       n_estimators=1000, n_jobs=1, nthread=4, num_class=3,\n",
       "       objective='multi:softprob', random_state=0, reg_alpha=0,\n",
       "       reg_lambda=1, scale_pos_weight=1, seed=None, silent=1,\n",
       "       subsample=0.8, tree_method='gpu_hist')"
      ]
     },
     "execution_count": 34,
     "metadata": {},
     "output_type": "execute_result"
    }
   ],
   "source": [
    "xgb_best=XGBClassifier(**xgb_cv.best_params_)\n",
    "xgb_best.fit(make_input_classic(X_train) ,y_train)"
   ]
  },
  {
   "cell_type": "code",
   "execution_count": 35,
   "metadata": {},
   "outputs": [
    {
     "name": "stdout",
     "output_type": "stream",
     "text": [
      "train score: 1.0000\n",
      "test  score: 0.9684\n"
     ]
    }
   ],
   "source": [
    "print(\"train score: %.4f\" % xgb_best.score(make_input_classic(X_train), y_train))\n",
    "print(\"test  score: %.4f\" % xgb_best.score(make_input_classic(X_test), y_test))"
   ]
  },
  {
   "cell_type": "markdown",
   "metadata": {},
   "source": [
    "# Deep Learning Models <a class=\"anchor\" id=\"2\"></a>\n"
   ]
  },
  {
   "cell_type": "code",
   "execution_count": 36,
   "metadata": {},
   "outputs": [],
   "source": [
    "%load_ext autoreload\n",
    "%autoreload 2"
   ]
  },
  {
   "cell_type": "code",
   "execution_count": 37,
   "metadata": {},
   "outputs": [],
   "source": [
    "import tensorflow as tf\n",
    "tf.enable_eager_execution()"
   ]
  },
  {
   "cell_type": "code",
   "execution_count": 38,
   "metadata": {},
   "outputs": [],
   "source": [
    "idx2class = {k:v for k,v in enumerate(df['class'].unique())}"
   ]
  },
  {
   "cell_type": "code",
   "execution_count": 39,
   "metadata": {},
   "outputs": [],
   "source": [
    "class2idx = {v:k for k,v in idx2class.items()}"
   ]
  },
  {
   "cell_type": "code",
   "execution_count": 40,
   "metadata": {},
   "outputs": [],
   "source": [
    "y_train_idx = np.array(list(map(lambda s: class2idx[s], y_train)))\n",
    "y_test_idx = np.array(list(map(lambda s: class2idx[s], y_test)))"
   ]
  },
  {
   "cell_type": "code",
   "execution_count": 41,
   "metadata": {},
   "outputs": [
    {
     "data": {
      "text/plain": [
       "(2162, 241, 601)"
      ]
     },
     "execution_count": 41,
     "metadata": {},
     "output_type": "execute_result"
    }
   ],
   "source": [
    "# make val set\n",
    "X_train_train, X_train_val, y_train_train_idx, y_train_val_idx = train_test_split(X_train, y_train_idx, test_size=0.1)\n",
    "len(X_train_train), len(X_train_val), len(X_test)"
   ]
  },
  {
   "cell_type": "markdown",
   "metadata": {},
   "source": [
    "## Simple FCN <a class=\"anchor\" id=\"2-1\"></a>\n",
    "### Hyperparameter tuning result:\n",
    "- **L2 norm / Dropout : great improvement using both of them**\n"
   ]
  },
  {
   "cell_type": "code",
   "execution_count": 42,
   "metadata": {},
   "outputs": [],
   "source": [
    "def make_input_fcn(X_):\n",
    "    return X_.reshape([X_.shape[0], -1]).astype(np.float32)"
   ]
  },
  {
   "cell_type": "code",
   "execution_count": 43,
   "metadata": {},
   "outputs": [],
   "source": [
    "from FCN import FCN"
   ]
  },
  {
   "cell_type": "code",
   "execution_count": 44,
   "metadata": {},
   "outputs": [],
   "source": [
    "fcn_model = FCN((X_train.shape[1]*X_train.shape[2],), len(class2idx), device_name=\"gpu:0\", checkpoint_directory=\"fcn/\")"
   ]
  },
  {
   "cell_type": "code",
   "execution_count": 45,
   "metadata": {},
   "outputs": [
    {
     "name": "stdout",
     "output_type": "stream",
     "text": [
      "_________________________________________________________________\n",
      "Layer (type)                 Output Shape              Param #   \n",
      "=================================================================\n",
      "dense_1 (Dense)              multiple                  246272    \n",
      "_________________________________________________________________\n",
      "dense_2 (Dense)              multiple                  131328    \n",
      "_________________________________________________________________\n",
      "dense_3 (Dense)              multiple                  32896     \n",
      "_________________________________________________________________\n",
      "dropout_1 (Dropout)          multiple                  0         \n",
      "_________________________________________________________________\n",
      "dense_4 (Dense)              multiple                  387       \n",
      "=================================================================\n",
      "Total params: 410,883\n",
      "Trainable params: 410,883\n",
      "Non-trainable params: 0\n",
      "_________________________________________________________________\n"
     ]
    }
   ],
   "source": [
    "fcn_model.build()\n",
    "fcn_model.summary()"
   ]
  },
  {
   "cell_type": "code",
   "execution_count": 46,
   "metadata": {},
   "outputs": [
    {
     "name": "stderr",
     "output_type": "stream",
     "text": [
      "GLOBAL 1: 100%|██████████| 17/17 [00:08<00:00,  4.66s/it]\n",
      "GLOBAL 1: 100%|██████████| 2/2 [00:08<00:00,  4.96s/it]\n"
     ]
    },
    {
     "name": "stdout",
     "output_type": "stream",
     "text": [
      "\u001b[31m=========================\n",
      "[EPOCH 1 / STEP 1]\n",
      "TRAIN loss     : 3.1605\n",
      "\u001b[34mTRAIN loss[l2] : 2.4537\n",
      "\u001b[32mTRAIN loss[net]: 0.7068\n",
      "\u001b[31mVAL   loss     : 2.4337\n",
      "\u001b[34mVAL   loss[l2] : 2.1452\n",
      "\u001b[32mTRAIN loss[net]: 0.2885\n",
      "\u001b[31mTRAIN acc      : 69.4727%\n",
      "VAL   acc      : 91.7012%\n",
      "saved step 1 in fcn/\n",
      "=========================\u001b[0m\n"
     ]
    },
    {
     "name": "stderr",
     "output_type": "stream",
     "text": [
      "GLOBAL 2: 100%|██████████| 17/17 [00:08<00:00,  4.27s/it]\n",
      "GLOBAL 2: 100%|██████████| 2/2 [00:08<00:00,  4.97s/it]\n"
     ]
    },
    {
     "name": "stdout",
     "output_type": "stream",
     "text": [
      "\u001b[31m=========================\n",
      "[EPOCH 2 / STEP 2]\n",
      "TRAIN loss     : 2.0573\n",
      "\u001b[34mTRAIN loss[l2] : 1.9060\n",
      "\u001b[32mTRAIN loss[net]: 0.1513\n",
      "\u001b[31mVAL   loss     : 1.8259\n",
      "\u001b[34mVAL   loss[l2] : 1.6538\n",
      "\u001b[32mTRAIN loss[net]: 0.1721\n",
      "\u001b[31mTRAIN acc      : 95.9297%\n",
      "VAL   acc      : 95.0207%\n",
      "saved step 2 in fcn/\n",
      "=========================\u001b[0m\n"
     ]
    },
    {
     "name": "stderr",
     "output_type": "stream",
     "text": [
      "GLOBAL 3: 100%|██████████| 17/17 [00:08<00:00,  4.36s/it]\n",
      "GLOBAL 3: 100%|██████████| 2/2 [00:08<00:00,  4.99s/it]\n"
     ]
    },
    {
     "name": "stdout",
     "output_type": "stream",
     "text": [
      "\u001b[31m=========================\n",
      "[EPOCH 3 / STEP 3]\n",
      "TRAIN loss     : 1.5465\n",
      "\u001b[34mTRAIN loss[l2] : 1.4606\n",
      "\u001b[32mTRAIN loss[net]: 0.0859\n",
      "\u001b[31mVAL   loss     : 1.4928\n",
      "\u001b[34mVAL   loss[l2] : 1.2607\n",
      "\u001b[32mTRAIN loss[net]: 0.2321\n",
      "\u001b[31mTRAIN acc      : 97.5948%\n",
      "VAL   acc      : 92.1162%\n",
      "saved step 3 in fcn/\n",
      "=========================\u001b[0m\n"
     ]
    },
    {
     "name": "stderr",
     "output_type": "stream",
     "text": [
      "GLOBAL 4: 100%|██████████| 17/17 [00:08<00:00,  4.38s/it]\n",
      "GLOBAL 4: 100%|██████████| 2/2 [00:08<00:00,  4.99s/it]\n"
     ]
    },
    {
     "name": "stdout",
     "output_type": "stream",
     "text": [
      "\u001b[31m=========================\n",
      "[EPOCH 4 / STEP 4]\n",
      "TRAIN loss     : 1.1806\n",
      "\u001b[34mTRAIN loss[l2] : 1.1118\n",
      "\u001b[32mTRAIN loss[net]: 0.0688\n",
      "\u001b[31mVAL   loss     : 1.1268\n",
      "\u001b[34mVAL   loss[l2] : 0.9583\n",
      "\u001b[32mTRAIN loss[net]: 0.1685\n",
      "\u001b[31mTRAIN acc      : 98.2424%\n",
      "VAL   acc      : 93.3610%\n",
      "saved step 4 in fcn/\n",
      "=========================\u001b[0m\n"
     ]
    },
    {
     "name": "stderr",
     "output_type": "stream",
     "text": [
      "GLOBAL 5: 100%|██████████| 17/17 [00:08<00:00,  4.29s/it]\n",
      "GLOBAL 5: 100%|██████████| 2/2 [00:08<00:00,  4.98s/it]\n"
     ]
    },
    {
     "name": "stdout",
     "output_type": "stream",
     "text": [
      "\u001b[31m=========================\n",
      "[EPOCH 5 / STEP 5]\n",
      "TRAIN loss     : 0.8842\n",
      "\u001b[34mTRAIN loss[l2] : 0.8443\n",
      "\u001b[32mTRAIN loss[net]: 0.0399\n",
      "\u001b[31mVAL   loss     : 0.9007\n",
      "\u001b[34mVAL   loss[l2] : 0.7267\n",
      "\u001b[32mTRAIN loss[net]: 0.1740\n",
      "\u001b[31mTRAIN acc      : 99.4450%\n",
      "VAL   acc      : 92.9461%\n",
      "saved step 5 in fcn/\n",
      "=========================\u001b[0m\n"
     ]
    },
    {
     "name": "stderr",
     "output_type": "stream",
     "text": [
      "GLOBAL 6: 100%|██████████| 17/17 [00:08<00:00,  4.28s/it]\n",
      "GLOBAL 6: 100%|██████████| 2/2 [00:08<00:00,  5.00s/it]\n"
     ]
    },
    {
     "name": "stdout",
     "output_type": "stream",
     "text": [
      "\u001b[31m=========================\n",
      "[EPOCH 6 / STEP 6]\n",
      "TRAIN loss     : 0.6675\n",
      "\u001b[34mTRAIN loss[l2] : 0.6391\n",
      "\u001b[32mTRAIN loss[net]: 0.0284\n",
      "\u001b[31mVAL   loss     : 0.7240\n",
      "\u001b[34mVAL   loss[l2] : 0.5490\n",
      "\u001b[32mTRAIN loss[net]: 0.1750\n",
      "\u001b[31mTRAIN acc      : 99.7225%\n",
      "VAL   acc      : 93.7759%\n",
      "saved step 6 in fcn/\n",
      "=========================\u001b[0m\n"
     ]
    },
    {
     "name": "stderr",
     "output_type": "stream",
     "text": [
      "GLOBAL 7: 100%|██████████| 17/17 [00:08<00:00,  4.33s/it]\n",
      "GLOBAL 7: 100%|██████████| 2/2 [00:08<00:00,  5.00s/it]\n"
     ]
    },
    {
     "name": "stdout",
     "output_type": "stream",
     "text": [
      "\u001b[31m=========================\n",
      "[EPOCH 7 / STEP 7]\n",
      "TRAIN loss     : 0.5030\n",
      "\u001b[34mTRAIN loss[l2] : 0.4821\n",
      "\u001b[32mTRAIN loss[net]: 0.0209\n",
      "\u001b[31mVAL   loss     : 0.6005\n",
      "\u001b[34mVAL   loss[l2] : 0.4132\n",
      "\u001b[32mTRAIN loss[net]: 0.1873\n",
      "\u001b[31mTRAIN acc      : 99.9075%\n",
      "VAL   acc      : 93.3610%\n",
      "saved step 7 in fcn/\n",
      "=========================\u001b[0m\n"
     ]
    },
    {
     "name": "stderr",
     "output_type": "stream",
     "text": [
      "GLOBAL 8: 100%|██████████| 17/17 [00:08<00:00,  4.59s/it]\n",
      "GLOBAL 8: 100%|██████████| 2/2 [00:08<00:00,  4.97s/it]\n"
     ]
    },
    {
     "name": "stdout",
     "output_type": "stream",
     "text": [
      "\u001b[31m=========================\n",
      "[EPOCH 8 / STEP 8]\n",
      "TRAIN loss     : 0.3779\n",
      "\u001b[34mTRAIN loss[l2] : 0.3621\n",
      "\u001b[32mTRAIN loss[net]: 0.0158\n",
      "\u001b[31mVAL   loss     : 0.4742\n",
      "\u001b[34mVAL   loss[l2] : 0.3095\n",
      "\u001b[32mTRAIN loss[net]: 0.1647\n",
      "\u001b[31mTRAIN acc      : 100.0000%\n",
      "VAL   acc      : 93.7759%\n",
      "saved step 8 in fcn/\n",
      "=========================\u001b[0m\n"
     ]
    },
    {
     "name": "stderr",
     "output_type": "stream",
     "text": [
      "GLOBAL 9: 100%|██████████| 17/17 [00:08<00:00,  4.28s/it]\n",
      "GLOBAL 9: 100%|██████████| 2/2 [00:08<00:00,  4.90s/it]\n"
     ]
    },
    {
     "name": "stdout",
     "output_type": "stream",
     "text": [
      "\u001b[31m=========================\n",
      "[EPOCH 9 / STEP 9]\n",
      "TRAIN loss     : 0.2848\n",
      "\u001b[34mTRAIN loss[l2] : 0.2707\n",
      "\u001b[32mTRAIN loss[net]: 0.0141\n",
      "\u001b[31mVAL   loss     : 0.3917\n",
      "\u001b[34mVAL   loss[l2] : 0.2310\n",
      "\u001b[32mTRAIN loss[net]: 0.1607\n",
      "\u001b[31mTRAIN acc      : 100.0000%\n",
      "VAL   acc      : 93.7759%\n",
      "saved step 9 in fcn/\n",
      "=========================\u001b[0m\n"
     ]
    },
    {
     "name": "stderr",
     "output_type": "stream",
     "text": [
      "GLOBAL 10: 100%|██████████| 17/17 [00:08<00:00,  4.29s/it]\n",
      "GLOBAL 10: 100%|██████████| 2/2 [00:08<00:00,  4.89s/it]\n"
     ]
    },
    {
     "name": "stdout",
     "output_type": "stream",
     "text": [
      "\u001b[31m=========================\n",
      "[EPOCH 10 / STEP 10]\n",
      "TRAIN loss     : 0.2147\n",
      "\u001b[34mTRAIN loss[l2] : 0.2019\n",
      "\u001b[32mTRAIN loss[net]: 0.0128\n",
      "\u001b[31mVAL   loss     : 0.3448\n",
      "\u001b[34mVAL   loss[l2] : 0.1722\n",
      "\u001b[32mTRAIN loss[net]: 0.1726\n",
      "\u001b[31mTRAIN acc      : 100.0000%\n",
      "VAL   acc      : 93.3610%\n",
      "saved step 10 in fcn/\n",
      "=========================\u001b[0m\n"
     ]
    },
    {
     "name": "stderr",
     "output_type": "stream",
     "text": [
      "GLOBAL 11: 100%|██████████| 17/17 [00:08<00:00,  4.28s/it]\n",
      "GLOBAL 11: 100%|██████████| 2/2 [00:08<00:00,  4.89s/it]\n"
     ]
    },
    {
     "name": "stdout",
     "output_type": "stream",
     "text": [
      "\u001b[31m=========================\n",
      "[EPOCH 11 / STEP 11]\n",
      "TRAIN loss     : 0.1621\n",
      "\u001b[34mTRAIN loss[l2] : 0.1507\n",
      "\u001b[32mTRAIN loss[net]: 0.0114\n",
      "\u001b[31mVAL   loss     : 0.3008\n",
      "\u001b[34mVAL   loss[l2] : 0.1288\n",
      "\u001b[32mTRAIN loss[net]: 0.1721\n",
      "\u001b[31mTRAIN acc      : 100.0000%\n",
      "VAL   acc      : 93.3610%\n",
      "saved step 11 in fcn/\n",
      "=========================\u001b[0m\n"
     ]
    },
    {
     "name": "stderr",
     "output_type": "stream",
     "text": [
      "GLOBAL 12: 100%|██████████| 17/17 [00:08<00:00,  4.35s/it]\n",
      "GLOBAL 12: 100%|██████████| 2/2 [00:08<00:00,  4.98s/it]\n"
     ]
    },
    {
     "name": "stdout",
     "output_type": "stream",
     "text": [
      "\u001b[31m=========================\n",
      "[EPOCH 12 / STEP 12]\n",
      "TRAIN loss     : 0.1229\n",
      "\u001b[34mTRAIN loss[l2] : 0.1127\n",
      "\u001b[32mTRAIN loss[net]: 0.0102\n",
      "\u001b[31mVAL   loss     : 0.2648\n",
      "\u001b[34mVAL   loss[l2] : 0.0964\n",
      "\u001b[32mTRAIN loss[net]: 0.1684\n",
      "\u001b[31mTRAIN acc      : 100.0000%\n",
      "VAL   acc      : 93.3610%\n",
      "saved step 12 in fcn/\n",
      "=========================\u001b[0m\n"
     ]
    },
    {
     "name": "stderr",
     "output_type": "stream",
     "text": [
      "GLOBAL 13: 100%|██████████| 17/17 [00:08<00:00,  1.91it/s]\n",
      "GLOBAL 13: 100%|██████████| 2/2 [00:08<00:00,  4.92s/it]\n"
     ]
    },
    {
     "name": "stdout",
     "output_type": "stream",
     "text": [
      "\u001b[31m=========================\n",
      "[EPOCH 13 / STEP 13]\n",
      "TRAIN loss     : 0.0935\n",
      "\u001b[34mTRAIN loss[l2] : 0.0846\n",
      "\u001b[32mTRAIN loss[net]: 0.0088\n",
      "\u001b[31mVAL   loss     : 0.2300\n",
      "\u001b[34mVAL   loss[l2] : 0.0726\n",
      "\u001b[32mTRAIN loss[net]: 0.1574\n",
      "\u001b[31mTRAIN acc      : 100.0000%\n",
      "VAL   acc      : 93.7759%\n",
      "saved step 13 in fcn/\n",
      "=========================\u001b[0m\n"
     ]
    },
    {
     "name": "stderr",
     "output_type": "stream",
     "text": [
      "GLOBAL 14: 100%|██████████| 17/17 [00:08<00:00,  4.35s/it]\n",
      "GLOBAL 14: 100%|██████████| 2/2 [00:08<00:00,  4.93s/it]\n"
     ]
    },
    {
     "name": "stdout",
     "output_type": "stream",
     "text": [
      "\u001b[31m=========================\n",
      "[EPOCH 14 / STEP 14]\n",
      "TRAIN loss     : 0.0723\n",
      "\u001b[34mTRAIN loss[l2] : 0.0639\n",
      "\u001b[32mTRAIN loss[net]: 0.0083\n",
      "\u001b[31mVAL   loss     : 0.2244\n",
      "\u001b[34mVAL   loss[l2] : 0.0552\n",
      "\u001b[32mTRAIN loss[net]: 0.1692\n",
      "\u001b[31mTRAIN acc      : 100.0000%\n",
      "VAL   acc      : 94.6058%\n",
      "saved step 14 in fcn/\n",
      "=========================\u001b[0m\n"
     ]
    },
    {
     "name": "stderr",
     "output_type": "stream",
     "text": [
      "GLOBAL 15: 100%|██████████| 17/17 [00:08<00:00,  4.35s/it]\n",
      "GLOBAL 15: 100%|██████████| 2/2 [00:08<00:00,  4.98s/it]\n"
     ]
    },
    {
     "name": "stdout",
     "output_type": "stream",
     "text": [
      "\u001b[31m=========================\n",
      "[EPOCH 15 / STEP 15]\n",
      "TRAIN loss     : 0.0561\n",
      "\u001b[34mTRAIN loss[l2] : 0.0489\n",
      "\u001b[32mTRAIN loss[net]: 0.0072\n",
      "\u001b[31mVAL   loss     : 0.1920\n",
      "\u001b[34mVAL   loss[l2] : 0.0425\n",
      "\u001b[32mTRAIN loss[net]: 0.1496\n",
      "\u001b[31mTRAIN acc      : 100.0000%\n",
      "VAL   acc      : 93.7759%\n",
      "saved step 15 in fcn/\n",
      "=========================\u001b[0m\n"
     ]
    },
    {
     "name": "stderr",
     "output_type": "stream",
     "text": [
      "GLOBAL 16: 100%|██████████| 17/17 [00:09<00:00,  4.83s/it]\n",
      "GLOBAL 16: 100%|██████████| 2/2 [00:08<00:00,  4.98s/it]\n"
     ]
    },
    {
     "name": "stdout",
     "output_type": "stream",
     "text": [
      "\u001b[31m=========================\n",
      "[EPOCH 16 / STEP 16]\n",
      "TRAIN loss     : 0.0441\n",
      "\u001b[34mTRAIN loss[l2] : 0.0378\n",
      "\u001b[32mTRAIN loss[net]: 0.0062\n",
      "\u001b[31mVAL   loss     : 0.1865\n",
      "\u001b[34mVAL   loss[l2] : 0.0331\n",
      "\u001b[32mTRAIN loss[net]: 0.1533\n",
      "\u001b[31mTRAIN acc      : 100.0000%\n",
      "VAL   acc      : 94.1909%\n",
      "saved step 16 in fcn/\n",
      "=========================\u001b[0m\n"
     ]
    },
    {
     "name": "stderr",
     "output_type": "stream",
     "text": [
      "GLOBAL 17: 100%|██████████| 17/17 [00:08<00:00,  4.28s/it]\n",
      "GLOBAL 17: 100%|██████████| 2/2 [00:08<00:00,  4.95s/it]\n"
     ]
    },
    {
     "name": "stdout",
     "output_type": "stream",
     "text": [
      "\u001b[31m=========================\n",
      "[EPOCH 17 / STEP 17]\n",
      "TRAIN loss     : 0.0353\n",
      "\u001b[34mTRAIN loss[l2] : 0.0297\n",
      "\u001b[32mTRAIN loss[net]: 0.0056\n",
      "\u001b[31mVAL   loss     : 0.1801\n",
      "\u001b[34mVAL   loss[l2] : 0.0262\n",
      "\u001b[32mTRAIN loss[net]: 0.1539\n",
      "\u001b[31mTRAIN acc      : 100.0000%\n",
      "VAL   acc      : 94.1909%\n",
      "saved step 17 in fcn/\n",
      "=========================\u001b[0m\n"
     ]
    },
    {
     "name": "stderr",
     "output_type": "stream",
     "text": [
      "GLOBAL 18: 100%|██████████| 17/17 [00:08<00:00,  4.35s/it]\n",
      "GLOBAL 18: 100%|██████████| 2/2 [00:08<00:00,  4.88s/it]\n"
     ]
    },
    {
     "name": "stdout",
     "output_type": "stream",
     "text": [
      "\u001b[31m=========================\n",
      "[EPOCH 18 / STEP 18]\n",
      "TRAIN loss     : 0.0286\n",
      "\u001b[34mTRAIN loss[l2] : 0.0236\n",
      "\u001b[32mTRAIN loss[net]: 0.0050\n",
      "\u001b[31mVAL   loss     : 0.1748\n",
      "\u001b[34mVAL   loss[l2] : 0.0210\n",
      "\u001b[32mTRAIN loss[net]: 0.1538\n",
      "\u001b[31mTRAIN acc      : 100.0000%\n",
      "VAL   acc      : 94.6058%\n",
      "saved step 18 in fcn/\n",
      "=========================\u001b[0m\n"
     ]
    },
    {
     "name": "stderr",
     "output_type": "stream",
     "text": [
      "GLOBAL 19: 100%|██████████| 17/17 [00:08<00:00,  4.29s/it]\n",
      "GLOBAL 19: 100%|██████████| 2/2 [00:08<00:00,  4.97s/it]\n"
     ]
    },
    {
     "name": "stdout",
     "output_type": "stream",
     "text": [
      "\u001b[31m=========================\n",
      "[EPOCH 19 / STEP 19]\n",
      "TRAIN loss     : 0.0237\n",
      "\u001b[34mTRAIN loss[l2] : 0.0192\n",
      "\u001b[32mTRAIN loss[net]: 0.0044\n",
      "\u001b[31mVAL   loss     : 0.1652\n",
      "\u001b[34mVAL   loss[l2] : 0.0173\n",
      "\u001b[32mTRAIN loss[net]: 0.1479\n",
      "\u001b[31mTRAIN acc      : 100.0000%\n",
      "VAL   acc      : 94.1909%\n",
      "saved step 19 in fcn/\n",
      "=========================\u001b[0m\n"
     ]
    },
    {
     "name": "stderr",
     "output_type": "stream",
     "text": [
      "GLOBAL 20: 100%|██████████| 17/17 [00:08<00:00,  4.27s/it]\n",
      "GLOBAL 20: 100%|██████████| 2/2 [00:08<00:00,  4.98s/it]\n"
     ]
    },
    {
     "name": "stdout",
     "output_type": "stream",
     "text": [
      "\u001b[31m=========================\n",
      "[EPOCH 20 / STEP 20]\n",
      "TRAIN loss     : 0.0199\n",
      "\u001b[34mTRAIN loss[l2] : 0.0158\n",
      "\u001b[32mTRAIN loss[net]: 0.0040\n",
      "\u001b[31mVAL   loss     : 0.1656\n",
      "\u001b[34mVAL   loss[l2] : 0.0145\n",
      "\u001b[32mTRAIN loss[net]: 0.1512\n",
      "\u001b[31mTRAIN acc      : 100.0000%\n",
      "VAL   acc      : 94.6058%\n",
      "saved step 20 in fcn/\n",
      "=========================\u001b[0m\n"
     ]
    },
    {
     "name": "stderr",
     "output_type": "stream",
     "text": [
      "GLOBAL 21: 100%|██████████| 17/17 [00:08<00:00,  4.25s/it]\n",
      "GLOBAL 21: 100%|██████████| 2/2 [00:08<00:00,  4.99s/it]\n"
     ]
    },
    {
     "name": "stdout",
     "output_type": "stream",
     "text": [
      "\u001b[31m=========================\n",
      "[EPOCH 21 / STEP 21]\n",
      "TRAIN loss     : 0.0169\n",
      "\u001b[34mTRAIN loss[l2] : 0.0134\n",
      "\u001b[32mTRAIN loss[net]: 0.0035\n",
      "\u001b[31mVAL   loss     : 0.1651\n",
      "\u001b[34mVAL   loss[l2] : 0.0123\n",
      "\u001b[32mTRAIN loss[net]: 0.1528\n",
      "\u001b[31mTRAIN acc      : 100.0000%\n",
      "VAL   acc      : 94.1909%\n",
      "saved step 21 in fcn/\n",
      "=========================\u001b[0m\n"
     ]
    },
    {
     "name": "stderr",
     "output_type": "stream",
     "text": [
      "GLOBAL 22: 100%|██████████| 17/17 [00:08<00:00,  4.26s/it]\n",
      "GLOBAL 22: 100%|██████████| 2/2 [00:08<00:00,  4.88s/it]\n"
     ]
    },
    {
     "name": "stdout",
     "output_type": "stream",
     "text": [
      "\u001b[31m=========================\n",
      "[EPOCH 22 / STEP 22]\n",
      "TRAIN loss     : 0.0147\n",
      "\u001b[34mTRAIN loss[l2] : 0.0115\n",
      "\u001b[32mTRAIN loss[net]: 0.0032\n",
      "\u001b[31mVAL   loss     : 0.1631\n",
      "\u001b[34mVAL   loss[l2] : 0.0107\n",
      "\u001b[32mTRAIN loss[net]: 0.1524\n",
      "\u001b[31mTRAIN acc      : 100.0000%\n",
      "VAL   acc      : 94.6058%\n",
      "saved step 22 in fcn/\n",
      "=========================\u001b[0m\n"
     ]
    },
    {
     "name": "stderr",
     "output_type": "stream",
     "text": [
      "GLOBAL 23: 100%|██████████| 17/17 [00:08<00:00,  4.35s/it]\n",
      "GLOBAL 23: 100%|██████████| 2/2 [00:08<00:00,  4.90s/it]\n"
     ]
    },
    {
     "name": "stdout",
     "output_type": "stream",
     "text": [
      "\u001b[31m=========================\n",
      "[EPOCH 23 / STEP 23]\n",
      "TRAIN loss     : 0.0130\n",
      "\u001b[34mTRAIN loss[l2] : 0.0100\n",
      "\u001b[32mTRAIN loss[net]: 0.0030\n",
      "\u001b[31mVAL   loss     : 0.1600\n",
      "\u001b[34mVAL   loss[l2] : 0.0094\n",
      "\u001b[32mTRAIN loss[net]: 0.1506\n",
      "\u001b[31mTRAIN acc      : 100.0000%\n",
      "VAL   acc      : 94.6058%\n",
      "saved step 23 in fcn/\n",
      "=========================\u001b[0m\n"
     ]
    },
    {
     "name": "stderr",
     "output_type": "stream",
     "text": [
      "GLOBAL 24: 100%|██████████| 17/17 [00:08<00:00,  4.29s/it]\n",
      "GLOBAL 24: 100%|██████████| 2/2 [00:08<00:00,  4.90s/it]\n"
     ]
    },
    {
     "name": "stdout",
     "output_type": "stream",
     "text": [
      "\u001b[31m=========================\n",
      "[EPOCH 24 / STEP 24]\n",
      "TRAIN loss     : 0.0116\n",
      "\u001b[34mTRAIN loss[l2] : 0.0089\n",
      "\u001b[32mTRAIN loss[net]: 0.0027\n",
      "\u001b[31mVAL   loss     : 0.1531\n",
      "\u001b[34mVAL   loss[l2] : 0.0085\n",
      "\u001b[32mTRAIN loss[net]: 0.1447\n",
      "\u001b[31mTRAIN acc      : 100.0000%\n",
      "VAL   acc      : 95.0207%\n",
      "saved step 24 in fcn/\n",
      "=========================\u001b[0m\n"
     ]
    },
    {
     "name": "stderr",
     "output_type": "stream",
     "text": [
      "GLOBAL 25: 100%|██████████| 17/17 [00:08<00:00,  4.28s/it]\n",
      "GLOBAL 25: 100%|██████████| 2/2 [00:08<00:00,  4.98s/it]\n"
     ]
    },
    {
     "name": "stdout",
     "output_type": "stream",
     "text": [
      "\u001b[31m=========================\n",
      "[EPOCH 25 / STEP 25]\n",
      "TRAIN loss     : 0.0104\n",
      "\u001b[34mTRAIN loss[l2] : 0.0080\n",
      "\u001b[32mTRAIN loss[net]: 0.0024\n",
      "\u001b[31mVAL   loss     : 0.1616\n",
      "\u001b[34mVAL   loss[l2] : 0.0075\n",
      "\u001b[32mTRAIN loss[net]: 0.1541\n",
      "\u001b[31mTRAIN acc      : 100.0000%\n",
      "VAL   acc      : 94.6058%\n",
      "saved step 25 in fcn/\n",
      "=========================\u001b[0m\n"
     ]
    },
    {
     "name": "stderr",
     "output_type": "stream",
     "text": [
      "GLOBAL 26: 100%|██████████| 17/17 [00:08<00:00,  4.35s/it]\n",
      "GLOBAL 26: 100%|██████████| 2/2 [00:08<00:00,  4.98s/it]\n"
     ]
    },
    {
     "name": "stdout",
     "output_type": "stream",
     "text": [
      "\u001b[31m=========================\n",
      "[EPOCH 26 / STEP 26]\n",
      "TRAIN loss     : 0.0095\n",
      "\u001b[34mTRAIN loss[l2] : 0.0072\n",
      "\u001b[32mTRAIN loss[net]: 0.0023\n",
      "\u001b[31mVAL   loss     : 0.1588\n",
      "\u001b[34mVAL   loss[l2] : 0.0069\n",
      "\u001b[32mTRAIN loss[net]: 0.1520\n",
      "\u001b[31mTRAIN acc      : 100.0000%\n",
      "VAL   acc      : 95.0207%\n",
      "saved step 26 in fcn/\n",
      "=========================\u001b[0m\n"
     ]
    },
    {
     "name": "stderr",
     "output_type": "stream",
     "text": [
      "GLOBAL 27: 100%|██████████| 17/17 [00:08<00:00,  4.36s/it]\n",
      "GLOBAL 27: 100%|██████████| 2/2 [00:08<00:00,  4.99s/it]\n"
     ]
    },
    {
     "name": "stdout",
     "output_type": "stream",
     "text": [
      "\u001b[31m=========================\n",
      "[EPOCH 27 / STEP 27]\n",
      "TRAIN loss     : 0.0086\n",
      "\u001b[34mTRAIN loss[l2] : 0.0066\n",
      "\u001b[32mTRAIN loss[net]: 0.0020\n",
      "\u001b[31mVAL   loss     : 0.1614\n",
      "\u001b[34mVAL   loss[l2] : 0.0062\n",
      "\u001b[32mTRAIN loss[net]: 0.1552\n",
      "\u001b[31mTRAIN acc      : 100.0000%\n",
      "VAL   acc      : 94.1909%\n",
      "saved step 27 in fcn/\n",
      "=========================\u001b[0m\n"
     ]
    },
    {
     "name": "stderr",
     "output_type": "stream",
     "text": [
      "GLOBAL 28: 100%|██████████| 17/17 [00:08<00:00,  4.36s/it]\n",
      "GLOBAL 28: 100%|██████████| 2/2 [00:08<00:00,  4.99s/it]\n"
     ]
    },
    {
     "name": "stdout",
     "output_type": "stream",
     "text": [
      "\u001b[31m=========================\n",
      "[EPOCH 28 / STEP 28]\n",
      "TRAIN loss     : 0.0079\n",
      "\u001b[34mTRAIN loss[l2] : 0.0060\n",
      "\u001b[32mTRAIN loss[net]: 0.0020\n",
      "\u001b[31mVAL   loss     : 0.1538\n",
      "\u001b[34mVAL   loss[l2] : 0.0058\n",
      "\u001b[32mTRAIN loss[net]: 0.1480\n",
      "\u001b[31mTRAIN acc      : 100.0000%\n",
      "VAL   acc      : 95.0207%\n",
      "saved step 28 in fcn/\n",
      "=========================\u001b[0m\n"
     ]
    },
    {
     "name": "stderr",
     "output_type": "stream",
     "text": [
      "GLOBAL 29: 100%|██████████| 17/17 [00:08<00:00,  4.36s/it]\n",
      "GLOBAL 29: 100%|██████████| 2/2 [00:08<00:00,  5.01s/it]\n"
     ]
    },
    {
     "name": "stdout",
     "output_type": "stream",
     "text": [
      "\u001b[31m=========================\n",
      "[EPOCH 29 / STEP 29]\n",
      "TRAIN loss     : 0.0073\n",
      "\u001b[34mTRAIN loss[l2] : 0.0056\n",
      "\u001b[32mTRAIN loss[net]: 0.0017\n",
      "\u001b[31mVAL   loss     : 0.1579\n",
      "\u001b[34mVAL   loss[l2] : 0.0053\n",
      "\u001b[32mTRAIN loss[net]: 0.1526\n",
      "\u001b[31mTRAIN acc      : 100.0000%\n",
      "VAL   acc      : 94.1909%\n",
      "saved step 29 in fcn/\n",
      "=========================\u001b[0m\n"
     ]
    },
    {
     "name": "stderr",
     "output_type": "stream",
     "text": [
      "GLOBAL 30: 100%|██████████| 17/17 [00:08<00:00,  4.48s/it]\n",
      "GLOBAL 30: 100%|██████████| 2/2 [00:08<00:00,  4.99s/it]\n"
     ]
    },
    {
     "name": "stdout",
     "output_type": "stream",
     "text": [
      "\u001b[31m=========================\n",
      "[EPOCH 30 / STEP 30]\n",
      "TRAIN loss     : 0.0068\n",
      "\u001b[34mTRAIN loss[l2] : 0.0051\n",
      "\u001b[32mTRAIN loss[net]: 0.0017\n",
      "\u001b[31mVAL   loss     : 0.1624\n",
      "\u001b[34mVAL   loss[l2] : 0.0050\n",
      "\u001b[32mTRAIN loss[net]: 0.1574\n",
      "\u001b[31mTRAIN acc      : 100.0000%\n",
      "VAL   acc      : 94.1909%\n",
      "saved step 30 in fcn/\n",
      "=========================\u001b[0m\n"
     ]
    }
   ],
   "source": [
    "fcn_model.fit(make_input_fcn(X_train_train), y_train_train_idx, make_input_fcn(X_train_val), y_train_val_idx, 30, 1, 128, saving=True,tqdm_option=\"normal\")"
   ]
  },
  {
   "cell_type": "code",
   "execution_count": 71,
   "metadata": {},
   "outputs": [
    {
     "name": "stdout",
     "output_type": "stream",
     "text": [
      "INFO:tensorflow:Restoring parameters from fcn/-24\n"
     ]
    }
   ],
   "source": [
    "fcn_model.load(24)"
   ]
  },
  {
   "cell_type": "code",
   "execution_count": 72,
   "metadata": {},
   "outputs": [
    {
     "data": {
      "text/plain": [
       "0.9584026622296173"
      ]
     },
     "execution_count": 72,
     "metadata": {},
     "output_type": "execute_result"
    }
   ],
   "source": [
    "pred  = tf.argmax(fcn_model(tf.convert_to_tensor(make_input_fcn(X_test)), False), axis=1).numpy()\n",
    "sum(np.equal(y_test_idx , pred)) / len(y_test_idx)"
   ]
  },
  {
   "cell_type": "markdown",
   "metadata": {},
   "source": [
    "## CNN Based(Resnet) <a class=\"anchor\" id=\"2-2\"></a>\n",
    "### Hyperparameter tuning result:\n",
    "- Batchnormalization : disturb training and make network fall into local minima, removed.\n",
    "- Kernel Size: not critical in deep layers structure.\n",
    "- L2 norm / Dropout : no visible improvement using both of them. only use dropout.\n",
    "- **Base Embedding & Positional Encoding: Most Dramatic improvement** for cnn"
   ]
  },
  {
   "cell_type": "code",
   "execution_count": 49,
   "metadata": {},
   "outputs": [],
   "source": [
    "def make_input_cnn(X_):\n",
    "    return np.argmax(X_, axis=2)"
   ]
  },
  {
   "cell_type": "code",
   "execution_count": 88,
   "metadata": {},
   "outputs": [],
   "source": [
    "from resnet_embedding import ResnetEmbedding"
   ]
  },
  {
   "cell_type": "code",
   "execution_count": 89,
   "metadata": {},
   "outputs": [],
   "source": [
    "resnet_model = ResnetEmbedding(X_train.shape[1:2],len(base_dict), 128, len(class2idx), device_name=\"gpu:0\", checkpoint_directory=\"resnet/\")"
   ]
  },
  {
   "cell_type": "code",
   "execution_count": 90,
   "metadata": {},
   "outputs": [
    {
     "name": "stdout",
     "output_type": "stream",
     "text": [
      "_________________________________________________________________\n",
      "Layer (type)                 Output Shape              Param #   \n",
      "=================================================================\n",
      "embedding_2 (Embedding)      multiple                  1024      \n",
      "_________________________________________________________________\n",
      "conv1d_54 (Conv1D)           multiple                  57408     \n",
      "_________________________________________________________________\n",
      "max_pooling1d_2 (MaxPooling1 multiple                  0         \n",
      "_________________________________________________________________\n",
      "convolution_block_3_4 (Convo multiple                  11456     \n",
      "_________________________________________________________________\n",
      "identitiy_block_3_12 (Identi multiple                  7296      \n",
      "_________________________________________________________________\n",
      "identitiy_block_3_13 (Identi multiple                  7296      \n",
      "_________________________________________________________________\n",
      "convolution_block_3_5 (Convo multiple                  33152     \n",
      "_________________________________________________________________\n",
      "identitiy_block_3_14 (Identi multiple                  28928     \n",
      "_________________________________________________________________\n",
      "identitiy_block_3_15 (Identi multiple                  28928     \n",
      "_________________________________________________________________\n",
      "identitiy_block_3_16 (Identi multiple                  28928     \n",
      "_________________________________________________________________\n",
      "convolution_block_3_6 (Convo multiple                  197888    \n",
      "_________________________________________________________________\n",
      "identitiy_block_3_17 (Identi multiple                  180992    \n",
      "_________________________________________________________________\n",
      "identitiy_block_3_18 (Identi multiple                  180992    \n",
      "_________________________________________________________________\n",
      "identitiy_block_3_19 (Identi multiple                  180992    \n",
      "_________________________________________________________________\n",
      "identitiy_block_3_20 (Identi multiple                  180992    \n",
      "_________________________________________________________________\n",
      "identitiy_block_3_21 (Identi multiple                  180992    \n",
      "_________________________________________________________________\n",
      "convolution_block_3_7 (Convo multiple                  1116672   \n",
      "_________________________________________________________________\n",
      "identitiy_block_3_22 (Identi multiple                  722432    \n",
      "_________________________________________________________________\n",
      "identitiy_block_3_23 (Identi multiple                  722432    \n",
      "_________________________________________________________________\n",
      "flatten_2 (Flatten)          multiple                  0         \n",
      "_________________________________________________________________\n",
      "dropout_4 (Dropout)          multiple                  0         \n",
      "_________________________________________________________________\n",
      "dense_9 (Dense)              multiple                  12291     \n",
      "=================================================================\n",
      "Total params: 3,881,091\n",
      "Trainable params: 3,881,091\n",
      "Non-trainable params: 0\n",
      "_________________________________________________________________\n"
     ]
    }
   ],
   "source": [
    "resnet_model.build()\n",
    "resnet_model.summary()"
   ]
  },
  {
   "cell_type": "code",
   "execution_count": 91,
   "metadata": {
    "scrolled": true
   },
   "outputs": [
    {
     "name": "stderr",
     "output_type": "stream",
     "text": [
      "GLOBAL 1: 100%|██████████| 17/17 [00:10<00:00,  1.23it/s]\n",
      "GLOBAL 1: 100%|██████████| 2/2 [00:09<00:00,  5.44s/it]\n"
     ]
    },
    {
     "name": "stdout",
     "output_type": "stream",
     "text": [
      "\u001b[31m=========================\n",
      "[EPOCH 1 / STEP 1]\n",
      "TRAIN loss   : 1.9402\n",
      "VAL   loss   : 1.0153\n",
      "TRAIN acc    : 49.2137%\n",
      "VAL   acc    : 53.1120%\n",
      "saved step 1 in resnet/\n",
      "=========================\u001b[0m\n"
     ]
    },
    {
     "name": "stderr",
     "output_type": "stream",
     "text": [
      "GLOBAL 2: 100%|██████████| 17/17 [00:09<00:00,  1.26it/s]\n",
      "GLOBAL 2: 100%|██████████| 2/2 [00:08<00:00,  5.28s/it]\n"
     ]
    },
    {
     "name": "stdout",
     "output_type": "stream",
     "text": [
      "\u001b[31m=========================\n",
      "[EPOCH 2 / STEP 2]\n",
      "TRAIN loss   : 0.9968\n",
      "VAL   loss   : 1.0132\n",
      "TRAIN acc    : 55.5967%\n",
      "VAL   acc    : 53.1120%\n",
      "saved step 2 in resnet/\n",
      "=========================\u001b[0m\n"
     ]
    },
    {
     "name": "stderr",
     "output_type": "stream",
     "text": [
      "GLOBAL 3: 100%|██████████| 17/17 [00:09<00:00,  1.25it/s]\n",
      "GLOBAL 3: 100%|██████████| 2/2 [00:08<00:00,  5.26s/it]\n"
     ]
    },
    {
     "name": "stdout",
     "output_type": "stream",
     "text": [
      "\u001b[31m=========================\n",
      "[EPOCH 3 / STEP 3]\n",
      "TRAIN loss   : 0.9977\n",
      "VAL   loss   : 1.0207\n",
      "TRAIN acc    : 55.5967%\n",
      "VAL   acc    : 53.1120%\n",
      "saved step 3 in resnet/\n",
      "=========================\u001b[0m\n"
     ]
    },
    {
     "name": "stderr",
     "output_type": "stream",
     "text": [
      "GLOBAL 4: 100%|██████████| 17/17 [00:10<00:00,  1.17it/s]\n",
      "GLOBAL 4: 100%|██████████| 2/2 [00:09<00:00,  5.49s/it]\n"
     ]
    },
    {
     "name": "stdout",
     "output_type": "stream",
     "text": [
      "\u001b[31m=========================\n",
      "[EPOCH 4 / STEP 4]\n",
      "TRAIN loss   : 0.9971\n",
      "VAL   loss   : 1.0187\n",
      "TRAIN acc    : 55.5967%\n",
      "VAL   acc    : 53.1120%\n",
      "saved step 4 in resnet/\n",
      "=========================\u001b[0m\n"
     ]
    },
    {
     "name": "stderr",
     "output_type": "stream",
     "text": [
      "GLOBAL 5: 100%|██████████| 17/17 [00:10<00:00,  1.60it/s]\n",
      "GLOBAL 5: 100%|██████████| 2/2 [00:09<00:00,  5.42s/it]\n"
     ]
    },
    {
     "name": "stdout",
     "output_type": "stream",
     "text": [
      "\u001b[31m=========================\n",
      "[EPOCH 5 / STEP 5]\n",
      "TRAIN loss   : 0.9928\n",
      "VAL   loss   : 1.0104\n",
      "TRAIN acc    : 55.5967%\n",
      "VAL   acc    : 53.1120%\n",
      "saved step 5 in resnet/\n",
      "=========================\u001b[0m\n"
     ]
    },
    {
     "name": "stderr",
     "output_type": "stream",
     "text": [
      "GLOBAL 6: 100%|██████████| 17/17 [00:10<00:00,  1.21it/s]\n",
      "GLOBAL 6: 100%|██████████| 2/2 [00:09<00:00,  5.40s/it]\n"
     ]
    },
    {
     "name": "stdout",
     "output_type": "stream",
     "text": [
      "\u001b[31m=========================\n",
      "[EPOCH 6 / STEP 6]\n",
      "TRAIN loss   : 0.9759\n",
      "VAL   loss   : 0.9519\n",
      "TRAIN acc    : 55.5967%\n",
      "VAL   acc    : 53.1120%\n",
      "saved step 6 in resnet/\n",
      "=========================\u001b[0m\n"
     ]
    },
    {
     "name": "stderr",
     "output_type": "stream",
     "text": [
      "GLOBAL 7: 100%|██████████| 17/17 [00:09<00:00,  1.26it/s]\n",
      "GLOBAL 7: 100%|██████████| 2/2 [00:09<00:00,  5.40s/it]\n"
     ]
    },
    {
     "name": "stdout",
     "output_type": "stream",
     "text": [
      "\u001b[31m=========================\n",
      "[EPOCH 7 / STEP 7]\n",
      "TRAIN loss   : 0.7633\n",
      "VAL   loss   : 0.6649\n",
      "TRAIN acc    : 67.1138%\n",
      "VAL   acc    : 65.5602%\n",
      "saved step 7 in resnet/\n",
      "=========================\u001b[0m\n"
     ]
    },
    {
     "name": "stderr",
     "output_type": "stream",
     "text": [
      "GLOBAL 8: 100%|██████████| 17/17 [00:10<00:00,  1.70it/s]\n",
      "GLOBAL 8: 100%|██████████| 2/2 [00:09<00:00,  5.36s/it]\n"
     ]
    },
    {
     "name": "stdout",
     "output_type": "stream",
     "text": [
      "\u001b[31m=========================\n",
      "[EPOCH 8 / STEP 8]\n",
      "TRAIN loss   : 0.5099\n",
      "VAL   loss   : 0.5525\n",
      "TRAIN acc    : 78.4921%\n",
      "VAL   acc    : 76.7635%\n",
      "saved step 8 in resnet/\n",
      "=========================\u001b[0m\n"
     ]
    },
    {
     "name": "stderr",
     "output_type": "stream",
     "text": [
      "GLOBAL 9: 100%|██████████| 17/17 [00:10<00:00,  1.22it/s]\n",
      "GLOBAL 9: 100%|██████████| 2/2 [00:08<00:00,  5.26s/it]\n"
     ]
    },
    {
     "name": "stdout",
     "output_type": "stream",
     "text": [
      "\u001b[31m=========================\n",
      "[EPOCH 9 / STEP 9]\n",
      "TRAIN loss   : 0.4371\n",
      "VAL   loss   : 0.2898\n",
      "TRAIN acc    : 82.0999%\n",
      "VAL   acc    : 88.3817%\n",
      "saved step 9 in resnet/\n",
      "=========================\u001b[0m\n"
     ]
    },
    {
     "name": "stderr",
     "output_type": "stream",
     "text": [
      "GLOBAL 10: 100%|██████████| 17/17 [00:09<00:00,  1.25it/s]\n",
      "GLOBAL 10: 100%|██████████| 2/2 [00:08<00:00,  5.22s/it]\n"
     ]
    },
    {
     "name": "stdout",
     "output_type": "stream",
     "text": [
      "\u001b[31m=========================\n",
      "[EPOCH 10 / STEP 10]\n",
      "TRAIN loss   : 0.2714\n",
      "VAL   loss   : 0.4413\n",
      "TRAIN acc    : 89.8705%\n",
      "VAL   acc    : 81.7427%\n",
      "saved step 10 in resnet/\n",
      "=========================\u001b[0m\n"
     ]
    },
    {
     "name": "stderr",
     "output_type": "stream",
     "text": [
      "GLOBAL 11: 100%|██████████| 17/17 [00:09<00:00,  1.25it/s]\n",
      "GLOBAL 11: 100%|██████████| 2/2 [00:09<00:00,  5.39s/it]\n"
     ]
    },
    {
     "name": "stdout",
     "output_type": "stream",
     "text": [
      "\u001b[31m=========================\n",
      "[EPOCH 11 / STEP 11]\n",
      "TRAIN loss   : 0.2900\n",
      "VAL   loss   : 0.2606\n",
      "TRAIN acc    : 88.4829%\n",
      "VAL   acc    : 90.4564%\n",
      "saved step 11 in resnet/\n",
      "=========================\u001b[0m\n"
     ]
    },
    {
     "name": "stderr",
     "output_type": "stream",
     "text": [
      "GLOBAL 12: 100%|██████████| 17/17 [00:10<00:00,  1.15it/s]\n",
      "GLOBAL 12: 100%|██████████| 2/2 [00:10<00:00,  5.85s/it]\n"
     ]
    },
    {
     "name": "stdout",
     "output_type": "stream",
     "text": [
      "\u001b[31m=========================\n",
      "[EPOCH 12 / STEP 12]\n",
      "TRAIN loss   : 0.2289\n",
      "VAL   loss   : 0.2073\n",
      "TRAIN acc    : 92.4144%\n",
      "VAL   acc    : 92.9461%\n",
      "saved step 12 in resnet/\n",
      "=========================\u001b[0m\n"
     ]
    },
    {
     "name": "stderr",
     "output_type": "stream",
     "text": [
      "GLOBAL 13: 100%|██████████| 17/17 [00:10<00:00,  1.12it/s]\n",
      "GLOBAL 13: 100%|██████████| 2/2 [00:09<00:00,  5.77s/it]\n"
     ]
    },
    {
     "name": "stdout",
     "output_type": "stream",
     "text": [
      "\u001b[31m=========================\n",
      "[EPOCH 13 / STEP 13]\n",
      "TRAIN loss   : 0.1754\n",
      "VAL   loss   : 0.1581\n",
      "TRAIN acc    : 94.2183%\n",
      "VAL   acc    : 93.7759%\n",
      "saved step 13 in resnet/\n",
      "=========================\u001b[0m\n"
     ]
    },
    {
     "name": "stderr",
     "output_type": "stream",
     "text": [
      "GLOBAL 14: 100%|██████████| 17/17 [00:10<00:00,  1.13it/s]\n",
      "GLOBAL 14: 100%|██████████| 2/2 [00:10<00:00,  5.82s/it]\n"
     ]
    },
    {
     "name": "stdout",
     "output_type": "stream",
     "text": [
      "\u001b[31m=========================\n",
      "[EPOCH 14 / STEP 14]\n",
      "TRAIN loss   : 0.1427\n",
      "VAL   loss   : 0.1976\n",
      "TRAIN acc    : 95.7447%\n",
      "VAL   acc    : 92.5311%\n",
      "saved step 14 in resnet/\n",
      "=========================\u001b[0m\n"
     ]
    },
    {
     "name": "stderr",
     "output_type": "stream",
     "text": [
      "GLOBAL 15: 100%|██████████| 17/17 [00:10<00:00,  1.14it/s]\n",
      "GLOBAL 15: 100%|██████████| 2/2 [00:09<00:00,  5.68s/it]\n"
     ]
    },
    {
     "name": "stdout",
     "output_type": "stream",
     "text": [
      "\u001b[31m=========================\n",
      "[EPOCH 15 / STEP 15]\n",
      "TRAIN loss   : 0.1596\n",
      "VAL   loss   : 0.1640\n",
      "TRAIN acc    : 94.4033%\n",
      "VAL   acc    : 92.9461%\n",
      "saved step 15 in resnet/\n",
      "=========================\u001b[0m\n"
     ]
    },
    {
     "name": "stderr",
     "output_type": "stream",
     "text": [
      "GLOBAL 16: 100%|██████████| 17/17 [00:10<00:00,  1.10it/s]\n",
      "GLOBAL 16: 100%|██████████| 2/2 [00:09<00:00,  5.74s/it]\n"
     ]
    },
    {
     "name": "stdout",
     "output_type": "stream",
     "text": [
      "\u001b[31m=========================\n",
      "[EPOCH 16 / STEP 16]\n",
      "TRAIN loss   : 0.1397\n",
      "VAL   loss   : 0.1166\n",
      "TRAIN acc    : 95.0046%\n",
      "VAL   acc    : 95.8506%\n",
      "saved step 16 in resnet/\n",
      "=========================\u001b[0m\n"
     ]
    },
    {
     "name": "stderr",
     "output_type": "stream",
     "text": [
      "GLOBAL 17: 100%|██████████| 17/17 [00:10<00:00,  1.12it/s]\n",
      "GLOBAL 17: 100%|██████████| 2/2 [00:09<00:00,  5.72s/it]\n"
     ]
    },
    {
     "name": "stdout",
     "output_type": "stream",
     "text": [
      "\u001b[31m=========================\n",
      "[EPOCH 17 / STEP 17]\n",
      "TRAIN loss   : 0.1270\n",
      "VAL   loss   : 0.1718\n",
      "TRAIN acc    : 95.4672%\n",
      "VAL   acc    : 94.6058%\n",
      "saved step 17 in resnet/\n",
      "=========================\u001b[0m\n"
     ]
    },
    {
     "name": "stderr",
     "output_type": "stream",
     "text": [
      "GLOBAL 18: 100%|██████████| 17/17 [00:10<00:00,  1.15it/s]\n",
      "GLOBAL 18: 100%|██████████| 2/2 [00:09<00:00,  5.64s/it]\n"
     ]
    },
    {
     "name": "stdout",
     "output_type": "stream",
     "text": [
      "\u001b[31m=========================\n",
      "[EPOCH 18 / STEP 18]\n",
      "TRAIN loss   : 0.1102\n",
      "VAL   loss   : 0.1358\n",
      "TRAIN acc    : 96.4385%\n",
      "VAL   acc    : 95.8506%\n",
      "saved step 18 in resnet/\n",
      "=========================\u001b[0m\n"
     ]
    },
    {
     "name": "stderr",
     "output_type": "stream",
     "text": [
      "GLOBAL 19: 100%|██████████| 17/17 [00:10<00:00,  1.60it/s]\n",
      "GLOBAL 19: 100%|██████████| 2/2 [00:09<00:00,  5.71s/it]\n"
     ]
    },
    {
     "name": "stdout",
     "output_type": "stream",
     "text": [
      "\u001b[31m=========================\n",
      "[EPOCH 19 / STEP 19]\n",
      "TRAIN loss   : 0.1325\n",
      "VAL   loss   : 0.1277\n",
      "TRAIN acc    : 95.0046%\n",
      "VAL   acc    : 95.0207%\n",
      "saved step 19 in resnet/\n",
      "=========================\u001b[0m\n"
     ]
    },
    {
     "name": "stderr",
     "output_type": "stream",
     "text": [
      "GLOBAL 20: 100%|██████████| 17/17 [00:11<00:00,  1.52it/s]\n",
      "GLOBAL 20: 100%|██████████| 2/2 [00:09<00:00,  5.78s/it]\n"
     ]
    },
    {
     "name": "stdout",
     "output_type": "stream",
     "text": [
      "\u001b[31m=========================\n",
      "[EPOCH 20 / STEP 20]\n",
      "TRAIN loss   : 0.1132\n",
      "VAL   loss   : 0.1482\n",
      "TRAIN acc    : 96.4847%\n",
      "VAL   acc    : 94.1909%\n",
      "saved step 20 in resnet/\n",
      "=========================\u001b[0m\n"
     ]
    },
    {
     "name": "stderr",
     "output_type": "stream",
     "text": [
      "GLOBAL 21: 100%|██████████| 17/17 [00:11<00:00,  1.52it/s]\n",
      "GLOBAL 21: 100%|██████████| 2/2 [00:09<00:00,  5.70s/it]\n"
     ]
    },
    {
     "name": "stdout",
     "output_type": "stream",
     "text": [
      "\u001b[31m=========================\n",
      "[EPOCH 21 / STEP 21]\n",
      "TRAIN loss   : 0.1282\n",
      "VAL   loss   : 0.1774\n",
      "TRAIN acc    : 95.5134%\n",
      "VAL   acc    : 92.9461%\n",
      "saved step 21 in resnet/\n",
      "=========================\u001b[0m\n"
     ]
    },
    {
     "name": "stderr",
     "output_type": "stream",
     "text": [
      "GLOBAL 22: 100%|██████████| 17/17 [00:11<00:00,  1.12it/s]\n",
      "GLOBAL 22: 100%|██████████| 2/2 [00:09<00:00,  5.72s/it]\n"
     ]
    },
    {
     "name": "stdout",
     "output_type": "stream",
     "text": [
      "\u001b[31m=========================\n",
      "[EPOCH 22 / STEP 22]\n",
      "TRAIN loss   : 0.1074\n",
      "VAL   loss   : 0.1087\n",
      "TRAIN acc    : 96.6698%\n",
      "VAL   acc    : 95.4357%\n",
      "saved step 22 in resnet/\n",
      "=========================\u001b[0m\n"
     ]
    },
    {
     "name": "stderr",
     "output_type": "stream",
     "text": [
      "GLOBAL 23: 100%|██████████| 17/17 [00:11<00:00,  1.08it/s]\n",
      "GLOBAL 23: 100%|██████████| 2/2 [00:09<00:00,  5.76s/it]\n"
     ]
    },
    {
     "name": "stdout",
     "output_type": "stream",
     "text": [
      "\u001b[31m=========================\n",
      "[EPOCH 23 / STEP 23]\n",
      "TRAIN loss   : 0.0835\n",
      "VAL   loss   : 0.1234\n",
      "TRAIN acc    : 97.0398%\n",
      "VAL   acc    : 96.2656%\n",
      "saved step 23 in resnet/\n",
      "=========================\u001b[0m\n"
     ]
    },
    {
     "name": "stderr",
     "output_type": "stream",
     "text": [
      "GLOBAL 24: 100%|██████████| 17/17 [00:10<00:00,  1.30it/s]\n",
      "GLOBAL 24: 100%|██████████| 2/2 [00:09<00:00,  5.55s/it]\n"
     ]
    },
    {
     "name": "stdout",
     "output_type": "stream",
     "text": [
      "\u001b[31m=========================\n",
      "[EPOCH 24 / STEP 24]\n",
      "TRAIN loss   : 0.0943\n",
      "VAL   loss   : 0.1989\n",
      "TRAIN acc    : 97.0860%\n",
      "VAL   acc    : 92.1162%\n",
      "saved step 24 in resnet/\n",
      "=========================\u001b[0m\n"
     ]
    },
    {
     "name": "stderr",
     "output_type": "stream",
     "text": [
      "GLOBAL 25: 100%|██████████| 17/17 [00:10<00:00,  1.15it/s]\n",
      "GLOBAL 25: 100%|██████████| 2/2 [00:09<00:00,  5.62s/it]\n"
     ]
    },
    {
     "name": "stdout",
     "output_type": "stream",
     "text": [
      "\u001b[31m=========================\n",
      "[EPOCH 25 / STEP 25]\n",
      "TRAIN loss   : 0.0880\n",
      "VAL   loss   : 0.1207\n",
      "TRAIN acc    : 97.2710%\n",
      "VAL   acc    : 96.2656%\n",
      "saved step 25 in resnet/\n",
      "=========================\u001b[0m\n"
     ]
    },
    {
     "name": "stderr",
     "output_type": "stream",
     "text": [
      "GLOBAL 26: 100%|██████████| 17/17 [00:10<00:00,  1.13it/s]\n",
      "GLOBAL 26: 100%|██████████| 2/2 [00:09<00:00,  5.66s/it]\n"
     ]
    },
    {
     "name": "stdout",
     "output_type": "stream",
     "text": [
      "\u001b[31m=========================\n",
      "[EPOCH 26 / STEP 26]\n",
      "TRAIN loss   : 0.0828\n",
      "VAL   loss   : 0.1393\n",
      "TRAIN acc    : 97.5486%\n",
      "VAL   acc    : 95.8506%\n",
      "saved step 26 in resnet/\n",
      "=========================\u001b[0m\n"
     ]
    },
    {
     "name": "stderr",
     "output_type": "stream",
     "text": [
      "GLOBAL 27: 100%|██████████| 17/17 [00:10<00:00,  1.13it/s]\n",
      "GLOBAL 27: 100%|██████████| 2/2 [00:09<00:00,  5.69s/it]\n"
     ]
    },
    {
     "name": "stdout",
     "output_type": "stream",
     "text": [
      "\u001b[31m=========================\n",
      "[EPOCH 27 / STEP 27]\n",
      "TRAIN loss   : 0.0769\n",
      "VAL   loss   : 0.1566\n",
      "TRAIN acc    : 97.2710%\n",
      "VAL   acc    : 95.8506%\n",
      "saved step 27 in resnet/\n",
      "=========================\u001b[0m\n"
     ]
    },
    {
     "name": "stderr",
     "output_type": "stream",
     "text": [
      "GLOBAL 28: 100%|██████████| 17/17 [00:10<00:00,  1.13it/s]\n",
      "GLOBAL 28: 100%|██████████| 2/2 [00:09<00:00,  5.66s/it]\n"
     ]
    },
    {
     "name": "stdout",
     "output_type": "stream",
     "text": [
      "\u001b[31m=========================\n",
      "[EPOCH 28 / STEP 28]\n",
      "TRAIN loss   : 0.0676\n",
      "VAL   loss   : 0.1555\n",
      "TRAIN acc    : 97.8261%\n",
      "VAL   acc    : 95.0207%\n",
      "saved step 28 in resnet/\n",
      "=========================\u001b[0m\n"
     ]
    },
    {
     "name": "stderr",
     "output_type": "stream",
     "text": [
      "GLOBAL 29: 100%|██████████| 17/17 [00:11<00:00,  1.03it/s]\n",
      "GLOBAL 29: 100%|██████████| 2/2 [00:09<00:00,  5.72s/it]\n"
     ]
    },
    {
     "name": "stdout",
     "output_type": "stream",
     "text": [
      "\u001b[31m=========================\n",
      "[EPOCH 29 / STEP 29]\n",
      "TRAIN loss   : 0.0636\n",
      "VAL   loss   : 0.1426\n",
      "TRAIN acc    : 98.1036%\n",
      "VAL   acc    : 94.1909%\n",
      "saved step 29 in resnet/\n",
      "=========================\u001b[0m\n"
     ]
    },
    {
     "name": "stderr",
     "output_type": "stream",
     "text": [
      "GLOBAL 30: 100%|██████████| 17/17 [00:10<00:00,  1.13it/s]\n",
      "GLOBAL 30: 100%|██████████| 2/2 [00:09<00:00,  5.71s/it]\n"
     ]
    },
    {
     "name": "stdout",
     "output_type": "stream",
     "text": [
      "\u001b[31m=========================\n",
      "[EPOCH 30 / STEP 30]\n",
      "TRAIN loss   : 0.0740\n",
      "VAL   loss   : 0.1464\n",
      "TRAIN acc    : 97.5948%\n",
      "VAL   acc    : 95.0207%\n",
      "saved step 30 in resnet/\n",
      "=========================\u001b[0m\n"
     ]
    }
   ],
   "source": [
    "resnet_model.fit(make_input_cnn(X_train_train), y_train_train_idx, make_input_cnn(X_train_val), y_train_val_idx, 30, 1, 128, saving=True,tqdm_option=\"normal\")"
   ]
  },
  {
   "cell_type": "code",
   "execution_count": 94,
   "metadata": {},
   "outputs": [
    {
     "name": "stdout",
     "output_type": "stream",
     "text": [
      "INFO:tensorflow:Restoring parameters from resnet/-22\n"
     ]
    }
   ],
   "source": [
    "resnet_model.load(22)"
   ]
  },
  {
   "cell_type": "code",
   "execution_count": 95,
   "metadata": {},
   "outputs": [
    {
     "data": {
      "text/plain": [
       "0.9633943427620633"
      ]
     },
     "execution_count": 95,
     "metadata": {},
     "output_type": "execute_result"
    }
   ],
   "source": [
    "pred  = tf.argmax(resnet_model(tf.convert_to_tensor(make_input_cnn(X_test)), False), axis=1).numpy()\n",
    "sum(np.equal(y_test_idx , pred)) / len(y_test_idx)"
   ]
  },
  {
   "cell_type": "markdown",
   "metadata": {},
   "source": [
    "## RNN Based(LSTM) with Embedding <a class=\"anchor\" id=\"2-3\"></a>"
   ]
  },
  {
   "cell_type": "code",
   "execution_count": 56,
   "metadata": {},
   "outputs": [],
   "source": [
    "def make_input_rnn(X_):\n",
    "    return np.argmax(X_, axis=2)"
   ]
  },
  {
   "cell_type": "code",
   "execution_count": 57,
   "metadata": {},
   "outputs": [],
   "source": [
    "from rnn import LSTM"
   ]
  },
  {
   "cell_type": "code",
   "execution_count": 58,
   "metadata": {},
   "outputs": [],
   "source": [
    "lstm_model = LSTM(X_train.shape[1:2],len(base_dict), 128, len(class2idx), use_cudnn=True, device_name=\"gpu:0\", checkpoint_directory=\"LSTM/\")"
   ]
  },
  {
   "cell_type": "code",
   "execution_count": 59,
   "metadata": {},
   "outputs": [
    {
     "name": "stdout",
     "output_type": "stream",
     "text": [
      "_________________________________________________________________\n",
      "Layer (type)                 Output Shape              Param #   \n",
      "=================================================================\n",
      "embedding_1 (Embedding)      multiple                  1024      \n",
      "_________________________________________________________________\n",
      "cu_dnnlstm (CuDNNLSTM)       multiple                  1314816   \n",
      "_________________________________________________________________\n",
      "dense_6 (Dense)              multiple                  131328    \n",
      "_________________________________________________________________\n",
      "dense_7 (Dense)              multiple                  32896     \n",
      "_________________________________________________________________\n",
      "dropout_3 (Dropout)          multiple                  0         \n",
      "_________________________________________________________________\n",
      "dense_8 (Dense)              multiple                  387       \n",
      "=================================================================\n",
      "Total params: 1,480,451\n",
      "Trainable params: 1,480,451\n",
      "Non-trainable params: 0\n",
      "_________________________________________________________________\n"
     ]
    }
   ],
   "source": [
    "lstm_model.build()\n",
    "lstm_model.summary()"
   ]
  },
  {
   "cell_type": "code",
   "execution_count": 60,
   "metadata": {},
   "outputs": [
    {
     "name": "stderr",
     "output_type": "stream",
     "text": [
      "GLOBAL 1: 100%|██████████| 17/17 [00:08<00:00,  1.67s/it]\n",
      "GLOBAL 1: 100%|██████████| 2/2 [00:08<00:00,  4.97s/it]\n"
     ]
    },
    {
     "name": "stdout",
     "output_type": "stream",
     "text": [
      "\u001b[31m=========================\n",
      "[EPOCH 1 / STEP 1]\n",
      "TRAIN loss     : 3.4761\n",
      "\u001b[34mTRAIN loss[l2] : 2.4518\n",
      "\u001b[32mTRAIN loss[net]: 1.0243\n",
      "\u001b[31mVAL   loss     : 3.1584\n",
      "\u001b[34mVAL   loss[l2] : 2.1435\n",
      "\u001b[32mTRAIN loss[net]: 1.0149\n",
      "\u001b[31mTRAIN acc      : 53.4690%\n",
      "VAL   acc      : 53.1120%\n",
      "saved step 1 in resnet/\n",
      "=========================\u001b[0m\n"
     ]
    },
    {
     "name": "stderr",
     "output_type": "stream",
     "text": [
      "GLOBAL 2: 100%|██████████| 17/17 [00:08<00:00,  1.65s/it]\n",
      "GLOBAL 2: 100%|██████████| 2/2 [00:08<00:00,  4.92s/it]\n"
     ]
    },
    {
     "name": "stdout",
     "output_type": "stream",
     "text": [
      "\u001b[31m=========================\n",
      "[EPOCH 2 / STEP 2]\n",
      "TRAIN loss     : 2.9066\n",
      "\u001b[34mTRAIN loss[l2] : 1.9043\n",
      "\u001b[32mTRAIN loss[net]: 1.0024\n",
      "\u001b[31mVAL   loss     : 2.6749\n",
      "\u001b[34mVAL   loss[l2] : 1.6537\n",
      "\u001b[32mTRAIN loss[net]: 1.0212\n",
      "\u001b[31mTRAIN acc      : 55.5967%\n",
      "VAL   acc      : 53.1120%\n",
      "saved step 2 in resnet/\n",
      "=========================\u001b[0m\n"
     ]
    },
    {
     "name": "stderr",
     "output_type": "stream",
     "text": [
      "GLOBAL 3: 100%|██████████| 17/17 [00:08<00:00,  1.67s/it]\n",
      "GLOBAL 3: 100%|██████████| 2/2 [00:08<00:00,  4.93s/it]\n"
     ]
    },
    {
     "name": "stdout",
     "output_type": "stream",
     "text": [
      "\u001b[31m=========================\n",
      "[EPOCH 3 / STEP 3]\n",
      "TRAIN loss     : 2.4665\n",
      "\u001b[34mTRAIN loss[l2] : 1.4632\n",
      "\u001b[32mTRAIN loss[net]: 1.0033\n",
      "\u001b[31mVAL   loss     : 2.3019\n",
      "\u001b[34mVAL   loss[l2] : 1.2649\n",
      "\u001b[32mTRAIN loss[net]: 1.0369\n",
      "\u001b[31mTRAIN acc      : 55.5967%\n",
      "VAL   acc      : 53.1120%\n",
      "saved step 3 in resnet/\n",
      "=========================\u001b[0m\n"
     ]
    },
    {
     "name": "stderr",
     "output_type": "stream",
     "text": [
      "GLOBAL 4: 100%|██████████| 17/17 [00:08<00:00,  1.67s/it]\n",
      "GLOBAL 4: 100%|██████████| 2/2 [00:08<00:00,  4.95s/it]\n"
     ]
    },
    {
     "name": "stdout",
     "output_type": "stream",
     "text": [
      "\u001b[31m=========================\n",
      "[EPOCH 4 / STEP 4]\n",
      "TRAIN loss     : 2.1142\n",
      "\u001b[34mTRAIN loss[l2] : 1.1162\n",
      "\u001b[32mTRAIN loss[net]: 0.9980\n",
      "\u001b[31mVAL   loss     : 1.9829\n",
      "\u001b[34mVAL   loss[l2] : 0.9620\n",
      "\u001b[32mTRAIN loss[net]: 1.0209\n",
      "\u001b[31mTRAIN acc      : 55.5967%\n",
      "VAL   acc      : 53.1120%\n",
      "saved step 4 in resnet/\n",
      "=========================\u001b[0m\n"
     ]
    },
    {
     "name": "stderr",
     "output_type": "stream",
     "text": [
      "GLOBAL 5: 100%|██████████| 17/17 [00:08<00:00,  1.67s/it]\n",
      "GLOBAL 5: 100%|██████████| 2/2 [00:08<00:00,  5.11s/it]\n"
     ]
    },
    {
     "name": "stdout",
     "output_type": "stream",
     "text": [
      "\u001b[31m=========================\n",
      "[EPOCH 5 / STEP 5]\n",
      "TRAIN loss     : 1.8429\n",
      "\u001b[34mTRAIN loss[l2] : 0.8461\n",
      "\u001b[32mTRAIN loss[net]: 0.9968\n",
      "\u001b[31mVAL   loss     : 1.7542\n",
      "\u001b[34mVAL   loss[l2] : 0.7274\n",
      "\u001b[32mTRAIN loss[net]: 1.0269\n",
      "\u001b[31mTRAIN acc      : 55.5967%\n",
      "VAL   acc      : 53.1120%\n",
      "saved step 5 in resnet/\n",
      "=========================\u001b[0m\n"
     ]
    },
    {
     "name": "stderr",
     "output_type": "stream",
     "text": [
      "GLOBAL 6: 100%|██████████| 17/17 [00:08<00:00,  1.68s/it]\n",
      "GLOBAL 6: 100%|██████████| 2/2 [00:08<00:00,  5.00s/it]\n"
     ]
    },
    {
     "name": "stdout",
     "output_type": "stream",
     "text": [
      "\u001b[31m=========================\n",
      "[EPOCH 6 / STEP 6]\n",
      "TRAIN loss     : 1.6350\n",
      "\u001b[34mTRAIN loss[l2] : 0.6378\n",
      "\u001b[32mTRAIN loss[net]: 0.9972\n",
      "\u001b[31mVAL   loss     : 1.5650\n",
      "\u001b[34mVAL   loss[l2] : 0.5459\n",
      "\u001b[32mTRAIN loss[net]: 1.0192\n",
      "\u001b[31mTRAIN acc      : 55.5967%\n",
      "VAL   acc      : 53.1120%\n",
      "saved step 6 in resnet/\n",
      "=========================\u001b[0m\n"
     ]
    },
    {
     "name": "stderr",
     "output_type": "stream",
     "text": [
      "GLOBAL 7: 100%|██████████| 17/17 [00:08<00:00,  1.91it/s]\n",
      "GLOBAL 7: 100%|██████████| 2/2 [00:08<00:00,  4.92s/it]\n"
     ]
    },
    {
     "name": "stdout",
     "output_type": "stream",
     "text": [
      "\u001b[31m=========================\n",
      "[EPOCH 7 / STEP 7]\n",
      "TRAIN loss     : 1.4714\n",
      "\u001b[34mTRAIN loss[l2] : 0.4775\n",
      "\u001b[32mTRAIN loss[net]: 0.9939\n",
      "\u001b[31mVAL   loss     : 1.4228\n",
      "\u001b[34mVAL   loss[l2] : 0.4072\n",
      "\u001b[32mTRAIN loss[net]: 1.0155\n",
      "\u001b[31mTRAIN acc      : 55.5967%\n",
      "VAL   acc      : 53.1120%\n",
      "saved step 7 in resnet/\n",
      "=========================\u001b[0m\n"
     ]
    },
    {
     "name": "stderr",
     "output_type": "stream",
     "text": [
      "GLOBAL 8: 100%|██████████| 17/17 [00:08<00:00,  1.94it/s]\n",
      "GLOBAL 8: 100%|██████████| 2/2 [00:08<00:00,  4.89s/it]\n"
     ]
    },
    {
     "name": "stdout",
     "output_type": "stream",
     "text": [
      "\u001b[31m=========================\n",
      "[EPOCH 8 / STEP 8]\n",
      "TRAIN loss     : 1.3486\n",
      "\u001b[34mTRAIN loss[l2] : 0.3550\n",
      "\u001b[32mTRAIN loss[net]: 0.9936\n",
      "\u001b[31mVAL   loss     : 1.3169\n",
      "\u001b[34mVAL   loss[l2] : 0.3016\n",
      "\u001b[32mTRAIN loss[net]: 1.0153\n",
      "\u001b[31mTRAIN acc      : 55.5967%\n",
      "VAL   acc      : 53.1120%\n",
      "saved step 8 in resnet/\n",
      "=========================\u001b[0m\n"
     ]
    },
    {
     "name": "stderr",
     "output_type": "stream",
     "text": [
      "GLOBAL 9: 100%|██████████| 17/17 [00:08<00:00,  1.64s/it]\n",
      "GLOBAL 9: 100%|██████████| 2/2 [00:08<00:00,  5.00s/it]\n"
     ]
    },
    {
     "name": "stdout",
     "output_type": "stream",
     "text": [
      "\u001b[31m=========================\n",
      "[EPOCH 9 / STEP 9]\n",
      "TRAIN loss     : 1.2546\n",
      "\u001b[34mTRAIN loss[l2] : 0.2621\n",
      "\u001b[32mTRAIN loss[net]: 0.9924\n",
      "\u001b[31mVAL   loss     : 1.2368\n",
      "\u001b[34mVAL   loss[l2] : 0.2216\n",
      "\u001b[32mTRAIN loss[net]: 1.0152\n",
      "\u001b[31mTRAIN acc      : 55.5967%\n",
      "VAL   acc      : 53.1120%\n",
      "saved step 9 in resnet/\n",
      "=========================\u001b[0m\n"
     ]
    },
    {
     "name": "stderr",
     "output_type": "stream",
     "text": [
      "GLOBAL 10: 100%|██████████| 17/17 [00:08<00:00,  1.67s/it]\n",
      "GLOBAL 10: 100%|██████████| 2/2 [00:08<00:00,  4.99s/it]\n"
     ]
    },
    {
     "name": "stdout",
     "output_type": "stream",
     "text": [
      "\u001b[31m=========================\n",
      "[EPOCH 10 / STEP 10]\n",
      "TRAIN loss     : 1.1842\n",
      "\u001b[34mTRAIN loss[l2] : 0.1921\n",
      "\u001b[32mTRAIN loss[net]: 0.9920\n",
      "\u001b[31mVAL   loss     : 1.1743\n",
      "\u001b[34mVAL   loss[l2] : 0.1621\n",
      "\u001b[32mTRAIN loss[net]: 1.0122\n",
      "\u001b[31mTRAIN acc      : 55.5967%\n",
      "VAL   acc      : 53.1120%\n",
      "saved step 10 in resnet/\n",
      "=========================\u001b[0m\n"
     ]
    },
    {
     "name": "stderr",
     "output_type": "stream",
     "text": [
      "GLOBAL 11: 100%|██████████| 17/17 [00:08<00:00,  1.64s/it]\n",
      "GLOBAL 11: 100%|██████████| 2/2 [00:08<00:00,  5.08s/it]\n"
     ]
    },
    {
     "name": "stdout",
     "output_type": "stream",
     "text": [
      "\u001b[31m=========================\n",
      "[EPOCH 11 / STEP 11]\n",
      "TRAIN loss     : 1.1317\n",
      "\u001b[34mTRAIN loss[l2] : 0.1399\n",
      "\u001b[32mTRAIN loss[net]: 0.9918\n",
      "\u001b[31mVAL   loss     : 1.1274\n",
      "\u001b[34mVAL   loss[l2] : 0.1175\n",
      "\u001b[32mTRAIN loss[net]: 1.0099\n",
      "\u001b[31mTRAIN acc      : 55.5967%\n",
      "VAL   acc      : 53.1120%\n",
      "saved step 11 in resnet/\n",
      "=========================\u001b[0m\n"
     ]
    },
    {
     "name": "stderr",
     "output_type": "stream",
     "text": [
      "GLOBAL 12: 100%|██████████| 17/17 [00:08<00:00,  1.68s/it]\n",
      "GLOBAL 12: 100%|██████████| 2/2 [00:08<00:00,  5.25s/it]\n"
     ]
    },
    {
     "name": "stdout",
     "output_type": "stream",
     "text": [
      "\u001b[31m=========================\n",
      "[EPOCH 12 / STEP 12]\n",
      "TRAIN loss     : 1.0915\n",
      "\u001b[34mTRAIN loss[l2] : 0.1012\n",
      "\u001b[32mTRAIN loss[net]: 0.9902\n",
      "\u001b[31mVAL   loss     : 1.0967\n",
      "\u001b[34mVAL   loss[l2] : 0.0847\n",
      "\u001b[32mTRAIN loss[net]: 1.0120\n",
      "\u001b[31mTRAIN acc      : 55.5967%\n",
      "VAL   acc      : 53.1120%\n",
      "saved step 12 in resnet/\n",
      "=========================\u001b[0m\n"
     ]
    },
    {
     "name": "stderr",
     "output_type": "stream",
     "text": [
      "GLOBAL 13: 100%|██████████| 17/17 [00:08<00:00,  1.68s/it]\n",
      "GLOBAL 13: 100%|██████████| 2/2 [00:08<00:00,  4.89s/it]\n"
     ]
    },
    {
     "name": "stdout",
     "output_type": "stream",
     "text": [
      "\u001b[31m=========================\n",
      "[EPOCH 13 / STEP 13]\n",
      "TRAIN loss     : 1.0619\n",
      "\u001b[34mTRAIN loss[l2] : 0.0729\n",
      "\u001b[32mTRAIN loss[net]: 0.9890\n",
      "\u001b[31mVAL   loss     : 1.0626\n",
      "\u001b[34mVAL   loss[l2] : 0.0607\n",
      "\u001b[32mTRAIN loss[net]: 1.0019\n",
      "\u001b[31mTRAIN acc      : 55.5967%\n",
      "VAL   acc      : 53.1120%\n",
      "saved step 13 in resnet/\n",
      "=========================\u001b[0m\n"
     ]
    },
    {
     "name": "stderr",
     "output_type": "stream",
     "text": [
      "GLOBAL 14: 100%|██████████| 17/17 [00:08<00:00,  1.64s/it]\n",
      "GLOBAL 14: 100%|██████████| 2/2 [00:08<00:00,  4.89s/it]\n"
     ]
    },
    {
     "name": "stdout",
     "output_type": "stream",
     "text": [
      "\u001b[31m=========================\n",
      "[EPOCH 14 / STEP 14]\n",
      "TRAIN loss     : 1.0425\n",
      "\u001b[34mTRAIN loss[l2] : 0.0521\n",
      "\u001b[32mTRAIN loss[net]: 0.9904\n",
      "\u001b[31mVAL   loss     : 1.0500\n",
      "\u001b[34mVAL   loss[l2] : 0.0432\n",
      "\u001b[32mTRAIN loss[net]: 1.0067\n",
      "\u001b[31mTRAIN acc      : 55.5967%\n",
      "VAL   acc      : 53.1120%\n",
      "saved step 14 in resnet/\n",
      "=========================\u001b[0m\n"
     ]
    },
    {
     "name": "stderr",
     "output_type": "stream",
     "text": [
      "GLOBAL 15: 100%|██████████| 17/17 [00:08<00:00,  1.65s/it]\n",
      "GLOBAL 15: 100%|██████████| 2/2 [00:08<00:00,  5.00s/it]\n"
     ]
    },
    {
     "name": "stdout",
     "output_type": "stream",
     "text": [
      "\u001b[31m=========================\n",
      "[EPOCH 15 / STEP 15]\n",
      "TRAIN loss     : 1.0285\n",
      "\u001b[34mTRAIN loss[l2] : 0.0373\n",
      "\u001b[32mTRAIN loss[net]: 0.9912\n",
      "\u001b[31mVAL   loss     : 1.0426\n",
      "\u001b[34mVAL   loss[l2] : 0.0304\n",
      "\u001b[32mTRAIN loss[net]: 1.0122\n",
      "\u001b[31mTRAIN acc      : 55.5967%\n",
      "VAL   acc      : 53.1120%\n",
      "saved step 15 in resnet/\n",
      "=========================\u001b[0m\n"
     ]
    },
    {
     "name": "stderr",
     "output_type": "stream",
     "text": [
      "GLOBAL 16: 100%|██████████| 17/17 [00:08<00:00,  1.64s/it]\n",
      "GLOBAL 16: 100%|██████████| 2/2 [00:08<00:00,  4.91s/it]\n"
     ]
    },
    {
     "name": "stdout",
     "output_type": "stream",
     "text": [
      "\u001b[31m=========================\n",
      "[EPOCH 16 / STEP 16]\n",
      "TRAIN loss     : 1.0190\n",
      "\u001b[34mTRAIN loss[l2] : 0.0265\n",
      "\u001b[32mTRAIN loss[net]: 0.9925\n",
      "\u001b[31mVAL   loss     : 1.0238\n",
      "\u001b[34mVAL   loss[l2] : 0.0226\n",
      "\u001b[32mTRAIN loss[net]: 1.0012\n",
      "\u001b[31mTRAIN acc      : 55.5967%\n",
      "VAL   acc      : 53.1120%\n",
      "saved step 16 in resnet/\n",
      "=========================\u001b[0m\n"
     ]
    },
    {
     "name": "stderr",
     "output_type": "stream",
     "text": [
      "GLOBAL 17: 100%|██████████| 17/17 [00:08<00:00,  1.67s/it]\n",
      "GLOBAL 17: 100%|██████████| 2/2 [00:08<00:00,  5.01s/it]\n"
     ]
    },
    {
     "name": "stdout",
     "output_type": "stream",
     "text": [
      "\u001b[31m=========================\n",
      "[EPOCH 17 / STEP 17]\n",
      "TRAIN loss     : 1.0026\n",
      "\u001b[34mTRAIN loss[l2] : 0.0195\n",
      "\u001b[32mTRAIN loss[net]: 0.9831\n",
      "\u001b[31mVAL   loss     : 1.0043\n",
      "\u001b[34mVAL   loss[l2] : 0.0168\n",
      "\u001b[32mTRAIN loss[net]: 0.9875\n",
      "\u001b[31mTRAIN acc      : 55.5967%\n",
      "VAL   acc      : 53.1120%\n",
      "saved step 17 in resnet/\n",
      "=========================\u001b[0m\n"
     ]
    },
    {
     "name": "stderr",
     "output_type": "stream",
     "text": [
      "GLOBAL 18: 100%|██████████| 17/17 [00:09<00:00,  1.72s/it]\n",
      "GLOBAL 18: 100%|██████████| 2/2 [00:08<00:00,  4.98s/it]\n"
     ]
    },
    {
     "name": "stdout",
     "output_type": "stream",
     "text": [
      "\u001b[31m=========================\n",
      "[EPOCH 18 / STEP 18]\n",
      "TRAIN loss     : 1.0002\n",
      "\u001b[34mTRAIN loss[l2] : 0.0152\n",
      "\u001b[32mTRAIN loss[net]: 0.9850\n",
      "\u001b[31mVAL   loss     : 1.0135\n",
      "\u001b[34mVAL   loss[l2] : 0.0133\n",
      "\u001b[32mTRAIN loss[net]: 1.0002\n",
      "\u001b[31mTRAIN acc      : 55.5042%\n",
      "VAL   acc      : 53.1120%\n",
      "saved step 18 in resnet/\n",
      "=========================\u001b[0m\n"
     ]
    },
    {
     "name": "stderr",
     "output_type": "stream",
     "text": [
      "GLOBAL 19: 100%|██████████| 17/17 [00:08<00:00,  1.67s/it]\n",
      "GLOBAL 19: 100%|██████████| 2/2 [00:08<00:00,  4.92s/it]\n"
     ]
    },
    {
     "name": "stdout",
     "output_type": "stream",
     "text": [
      "\u001b[31m=========================\n",
      "[EPOCH 19 / STEP 19]\n",
      "TRAIN loss     : 0.9987\n",
      "\u001b[34mTRAIN loss[l2] : 0.0116\n",
      "\u001b[32mTRAIN loss[net]: 0.9870\n",
      "\u001b[31mVAL   loss     : 1.0038\n",
      "\u001b[34mVAL   loss[l2] : 0.0101\n",
      "\u001b[32mTRAIN loss[net]: 0.9938\n",
      "\u001b[31mTRAIN acc      : 55.5967%\n",
      "VAL   acc      : 53.1120%\n",
      "saved step 19 in resnet/\n",
      "=========================\u001b[0m\n"
     ]
    },
    {
     "name": "stderr",
     "output_type": "stream",
     "text": [
      "GLOBAL 20: 100%|██████████| 17/17 [00:08<00:00,  1.65s/it]\n",
      "GLOBAL 20: 100%|██████████| 2/2 [00:08<00:00,  4.99s/it]\n"
     ]
    },
    {
     "name": "stdout",
     "output_type": "stream",
     "text": [
      "\u001b[31m=========================\n",
      "[EPOCH 20 / STEP 20]\n",
      "TRAIN loss     : 0.9854\n",
      "\u001b[34mTRAIN loss[l2] : 0.0095\n",
      "\u001b[32mTRAIN loss[net]: 0.9759\n",
      "\u001b[31mVAL   loss     : 0.9894\n",
      "\u001b[34mVAL   loss[l2] : 0.0089\n",
      "\u001b[32mTRAIN loss[net]: 0.9804\n",
      "\u001b[31mTRAIN acc      : 54.8566%\n",
      "VAL   acc      : 53.1120%\n",
      "saved step 20 in resnet/\n",
      "=========================\u001b[0m\n"
     ]
    },
    {
     "name": "stderr",
     "output_type": "stream",
     "text": [
      "GLOBAL 21: 100%|██████████| 17/17 [00:08<00:00,  1.66s/it]\n",
      "GLOBAL 21: 100%|██████████| 2/2 [00:08<00:00,  5.01s/it]\n"
     ]
    },
    {
     "name": "stdout",
     "output_type": "stream",
     "text": [
      "\u001b[31m=========================\n",
      "[EPOCH 21 / STEP 21]\n",
      "TRAIN loss     : 1.0085\n",
      "\u001b[34mTRAIN loss[l2] : 0.0077\n",
      "\u001b[32mTRAIN loss[net]: 1.0008\n",
      "\u001b[31mVAL   loss     : 1.0182\n",
      "\u001b[34mVAL   loss[l2] : 0.0077\n",
      "\u001b[32mTRAIN loss[net]: 1.0106\n",
      "\u001b[31mTRAIN acc      : 55.5967%\n",
      "VAL   acc      : 53.1120%\n",
      "saved step 21 in resnet/\n",
      "=========================\u001b[0m\n"
     ]
    },
    {
     "name": "stderr",
     "output_type": "stream",
     "text": [
      "GLOBAL 22: 100%|██████████| 17/17 [00:08<00:00,  1.67s/it]\n",
      "GLOBAL 22: 100%|██████████| 2/2 [00:08<00:00,  4.99s/it]\n"
     ]
    },
    {
     "name": "stdout",
     "output_type": "stream",
     "text": [
      "\u001b[31m=========================\n",
      "[EPOCH 22 / STEP 22]\n",
      "TRAIN loss     : 0.9981\n",
      "\u001b[34mTRAIN loss[l2] : 0.0072\n",
      "\u001b[32mTRAIN loss[net]: 0.9909\n",
      "\u001b[31mVAL   loss     : 1.0129\n",
      "\u001b[34mVAL   loss[l2] : 0.0059\n",
      "\u001b[32mTRAIN loss[net]: 1.0069\n",
      "\u001b[31mTRAIN acc      : 55.5967%\n",
      "VAL   acc      : 53.1120%\n",
      "saved step 22 in resnet/\n",
      "=========================\u001b[0m\n"
     ]
    },
    {
     "name": "stderr",
     "output_type": "stream",
     "text": [
      "GLOBAL 23: 100%|██████████| 17/17 [00:09<00:00,  1.88it/s]\n",
      "GLOBAL 23: 100%|██████████| 2/2 [00:08<00:00,  5.15s/it]\n"
     ]
    },
    {
     "name": "stdout",
     "output_type": "stream",
     "text": [
      "\u001b[31m=========================\n",
      "[EPOCH 23 / STEP 23]\n",
      "TRAIN loss     : 0.9952\n",
      "\u001b[34mTRAIN loss[l2] : 0.0053\n",
      "\u001b[32mTRAIN loss[net]: 0.9898\n",
      "\u001b[31mVAL   loss     : 1.0096\n",
      "\u001b[34mVAL   loss[l2] : 0.0045\n",
      "\u001b[32mTRAIN loss[net]: 1.0051\n",
      "\u001b[31mTRAIN acc      : 55.5967%\n",
      "VAL   acc      : 53.1120%\n",
      "saved step 23 in resnet/\n",
      "=========================\u001b[0m\n"
     ]
    },
    {
     "name": "stderr",
     "output_type": "stream",
     "text": [
      "GLOBAL 24: 100%|██████████| 17/17 [00:08<00:00,  1.68s/it]\n",
      "GLOBAL 24: 100%|██████████| 2/2 [00:08<00:00,  4.99s/it]\n"
     ]
    },
    {
     "name": "stdout",
     "output_type": "stream",
     "text": [
      "\u001b[31m=========================\n",
      "[EPOCH 24 / STEP 24]\n",
      "TRAIN loss     : 0.9940\n",
      "\u001b[34mTRAIN loss[l2] : 0.0040\n",
      "\u001b[32mTRAIN loss[net]: 0.9900\n",
      "\u001b[31mVAL   loss     : 1.0136\n",
      "\u001b[34mVAL   loss[l2] : 0.0038\n",
      "\u001b[32mTRAIN loss[net]: 1.0098\n",
      "\u001b[31mTRAIN acc      : 55.5967%\n",
      "VAL   acc      : 53.1120%\n",
      "saved step 24 in resnet/\n",
      "=========================\u001b[0m\n"
     ]
    },
    {
     "name": "stderr",
     "output_type": "stream",
     "text": [
      "GLOBAL 25: 100%|██████████| 17/17 [00:08<00:00,  1.68s/it]\n",
      "GLOBAL 25: 100%|██████████| 2/2 [00:08<00:00,  4.91s/it]\n"
     ]
    },
    {
     "name": "stdout",
     "output_type": "stream",
     "text": [
      "\u001b[31m=========================\n",
      "[EPOCH 25 / STEP 25]\n",
      "TRAIN loss     : 0.9915\n",
      "\u001b[34mTRAIN loss[l2] : 0.0032\n",
      "\u001b[32mTRAIN loss[net]: 0.9882\n",
      "\u001b[31mVAL   loss     : 1.0068\n",
      "\u001b[34mVAL   loss[l2] : 0.0028\n",
      "\u001b[32mTRAIN loss[net]: 1.0040\n",
      "\u001b[31mTRAIN acc      : 55.5967%\n",
      "VAL   acc      : 53.1120%\n",
      "saved step 25 in resnet/\n",
      "=========================\u001b[0m\n"
     ]
    },
    {
     "name": "stderr",
     "output_type": "stream",
     "text": [
      "GLOBAL 26: 100%|██████████| 17/17 [00:08<00:00,  1.67s/it]\n",
      "GLOBAL 26: 100%|██████████| 2/2 [00:08<00:00,  4.91s/it]\n"
     ]
    },
    {
     "name": "stdout",
     "output_type": "stream",
     "text": [
      "\u001b[31m=========================\n",
      "[EPOCH 26 / STEP 26]\n",
      "TRAIN loss     : 0.9907\n",
      "\u001b[34mTRAIN loss[l2] : 0.0028\n",
      "\u001b[32mTRAIN loss[net]: 0.9879\n",
      "\u001b[31mVAL   loss     : 1.0049\n",
      "\u001b[34mVAL   loss[l2] : 0.0023\n",
      "\u001b[32mTRAIN loss[net]: 1.0025\n",
      "\u001b[31mTRAIN acc      : 55.5967%\n",
      "VAL   acc      : 53.1120%\n",
      "saved step 26 in resnet/\n",
      "=========================\u001b[0m\n"
     ]
    },
    {
     "name": "stderr",
     "output_type": "stream",
     "text": [
      "GLOBAL 27: 100%|██████████| 17/17 [00:08<00:00,  1.65s/it]\n",
      "GLOBAL 27: 100%|██████████| 2/2 [00:08<00:00,  4.98s/it]\n"
     ]
    },
    {
     "name": "stdout",
     "output_type": "stream",
     "text": [
      "\u001b[31m=========================\n",
      "[EPOCH 27 / STEP 27]\n",
      "TRAIN loss     : 0.9917\n",
      "\u001b[34mTRAIN loss[l2] : 0.0024\n",
      "\u001b[32mTRAIN loss[net]: 0.9894\n",
      "\u001b[31mVAL   loss     : 1.0089\n",
      "\u001b[34mVAL   loss[l2] : 0.0020\n",
      "\u001b[32mTRAIN loss[net]: 1.0070\n",
      "\u001b[31mTRAIN acc      : 55.5967%\n",
      "VAL   acc      : 53.1120%\n",
      "saved step 27 in resnet/\n",
      "=========================\u001b[0m\n"
     ]
    },
    {
     "name": "stderr",
     "output_type": "stream",
     "text": [
      "GLOBAL 28: 100%|██████████| 17/17 [00:08<00:00,  1.68s/it]\n",
      "GLOBAL 28: 100%|██████████| 2/2 [00:08<00:00,  5.05s/it]\n"
     ]
    },
    {
     "name": "stdout",
     "output_type": "stream",
     "text": [
      "\u001b[31m=========================\n",
      "[EPOCH 28 / STEP 28]\n",
      "TRAIN loss     : 0.9907\n",
      "\u001b[34mTRAIN loss[l2] : 0.0021\n",
      "\u001b[32mTRAIN loss[net]: 0.9885\n",
      "\u001b[31mVAL   loss     : 1.0019\n",
      "\u001b[34mVAL   loss[l2] : 0.0020\n",
      "\u001b[32mTRAIN loss[net]: 0.9999\n",
      "\u001b[31mTRAIN acc      : 55.5967%\n",
      "VAL   acc      : 53.1120%\n",
      "saved step 28 in resnet/\n",
      "=========================\u001b[0m\n"
     ]
    },
    {
     "name": "stderr",
     "output_type": "stream",
     "text": [
      "GLOBAL 29: 100%|██████████| 17/17 [00:08<00:00,  1.67s/it]\n",
      "GLOBAL 29: 100%|██████████| 2/2 [00:08<00:00,  4.94s/it]\n"
     ]
    },
    {
     "name": "stdout",
     "output_type": "stream",
     "text": [
      "\u001b[31m=========================\n",
      "[EPOCH 29 / STEP 29]\n",
      "TRAIN loss     : 0.9878\n",
      "\u001b[34mTRAIN loss[l2] : 0.0022\n",
      "\u001b[32mTRAIN loss[net]: 0.9856\n",
      "\u001b[31mVAL   loss     : 0.9953\n",
      "\u001b[34mVAL   loss[l2] : 0.0024\n",
      "\u001b[32mTRAIN loss[net]: 0.9929\n",
      "\u001b[31mTRAIN acc      : 55.5967%\n",
      "VAL   acc      : 53.1120%\n",
      "saved step 29 in resnet/\n",
      "=========================\u001b[0m\n"
     ]
    },
    {
     "name": "stderr",
     "output_type": "stream",
     "text": [
      "GLOBAL 30: 100%|██████████| 17/17 [00:08<00:00,  1.65s/it]\n",
      "GLOBAL 30: 100%|██████████| 2/2 [00:08<00:00,  4.99s/it]\n"
     ]
    },
    {
     "name": "stdout",
     "output_type": "stream",
     "text": [
      "\u001b[31m=========================\n",
      "[EPOCH 30 / STEP 30]\n",
      "TRAIN loss     : 0.9791\n",
      "\u001b[34mTRAIN loss[l2] : 0.0027\n",
      "\u001b[32mTRAIN loss[net]: 0.9764\n",
      "\u001b[31mVAL   loss     : 1.0088\n",
      "\u001b[34mVAL   loss[l2] : 0.0038\n",
      "\u001b[32mTRAIN loss[net]: 1.0050\n",
      "\u001b[31mTRAIN acc      : 56.0592%\n",
      "VAL   acc      : 49.3776%\n",
      "saved step 30 in resnet/\n",
      "=========================\u001b[0m\n"
     ]
    }
   ],
   "source": [
    "lstm_model.fit(make_input_rnn(X_train_train), y_train_train_idx, make_input_rnn(X_train_val), y_train_val_idx, 30, 1, 128, saving=True,tqdm_option=\"normal\")"
   ]
  },
  {
   "cell_type": "code",
   "execution_count": 61,
   "metadata": {},
   "outputs": [
    {
     "name": "stderr",
     "output_type": "stream",
     "text": [
      "GLOBAL 31: 100%|██████████| 17/17 [00:08<00:00,  1.66s/it]\n",
      "GLOBAL 31: 100%|██████████| 2/2 [00:08<00:00,  4.92s/it]\n"
     ]
    },
    {
     "name": "stdout",
     "output_type": "stream",
     "text": [
      "\u001b[31m=========================\n",
      "[EPOCH 1 / STEP 31]\n",
      "TRAIN loss     : 0.9893\n",
      "\u001b[34mTRAIN loss[l2] : 0.0036\n",
      "\u001b[32mTRAIN loss[net]: 0.9856\n",
      "\u001b[31mVAL   loss     : 0.9910\n",
      "\u001b[34mVAL   loss[l2] : 0.0030\n",
      "\u001b[32mTRAIN loss[net]: 0.9880\n",
      "\u001b[31mTRAIN acc      : 55.4117%\n",
      "VAL   acc      : 53.1120%\n",
      "saved step 31 in resnet/\n",
      "=========================\u001b[0m\n"
     ]
    },
    {
     "name": "stderr",
     "output_type": "stream",
     "text": [
      "GLOBAL 32: 100%|██████████| 17/17 [00:08<00:00,  1.68s/it]\n",
      "GLOBAL 32: 100%|██████████| 2/2 [00:08<00:00,  4.92s/it]\n"
     ]
    },
    {
     "name": "stdout",
     "output_type": "stream",
     "text": [
      "\u001b[31m=========================\n",
      "[EPOCH 2 / STEP 32]\n",
      "TRAIN loss     : 0.9806\n",
      "\u001b[34mTRAIN loss[l2] : 0.0033\n",
      "\u001b[32mTRAIN loss[net]: 0.9773\n",
      "\u001b[31mVAL   loss     : 0.9644\n",
      "\u001b[34mVAL   loss[l2] : 0.0045\n",
      "\u001b[32mTRAIN loss[net]: 0.9599\n",
      "\u001b[31mTRAIN acc      : 55.7817%\n",
      "VAL   acc      : 55.1867%\n",
      "saved step 32 in resnet/\n",
      "=========================\u001b[0m\n"
     ]
    },
    {
     "name": "stderr",
     "output_type": "stream",
     "text": [
      "GLOBAL 33: 100%|██████████| 17/17 [00:08<00:00,  1.67s/it]\n",
      "GLOBAL 33: 100%|██████████| 2/2 [00:08<00:00,  5.00s/it]\n"
     ]
    },
    {
     "name": "stdout",
     "output_type": "stream",
     "text": [
      "\u001b[31m=========================\n",
      "[EPOCH 3 / STEP 33]\n",
      "TRAIN loss     : 0.9404\n",
      "\u001b[34mTRAIN loss[l2] : 0.0046\n",
      "\u001b[32mTRAIN loss[net]: 0.9358\n",
      "\u001b[31mVAL   loss     : 0.8819\n",
      "\u001b[34mVAL   loss[l2] : 0.0058\n",
      "\u001b[32mTRAIN loss[net]: 0.8762\n",
      "\u001b[31mTRAIN acc      : 58.3256%\n",
      "VAL   acc      : 58.5062%\n",
      "saved step 33 in resnet/\n",
      "=========================\u001b[0m\n"
     ]
    },
    {
     "name": "stderr",
     "output_type": "stream",
     "text": [
      "GLOBAL 34: 100%|██████████| 17/17 [00:08<00:00,  1.68s/it]\n",
      "GLOBAL 34: 100%|██████████| 2/2 [00:08<00:00,  5.02s/it]\n"
     ]
    },
    {
     "name": "stdout",
     "output_type": "stream",
     "text": [
      "\u001b[31m=========================\n",
      "[EPOCH 4 / STEP 34]\n",
      "TRAIN loss     : 0.8397\n",
      "\u001b[34mTRAIN loss[l2] : 0.0075\n",
      "\u001b[32mTRAIN loss[net]: 0.8322\n",
      "\u001b[31mVAL   loss     : 0.8405\n",
      "\u001b[34mVAL   loss[l2] : 0.0101\n",
      "\u001b[32mTRAIN loss[net]: 0.8304\n",
      "\u001b[31mTRAIN acc      : 63.1822%\n",
      "VAL   acc      : 61.8257%\n",
      "saved step 34 in resnet/\n",
      "=========================\u001b[0m\n"
     ]
    },
    {
     "name": "stderr",
     "output_type": "stream",
     "text": [
      "GLOBAL 35: 100%|██████████| 17/17 [00:08<00:00,  1.68s/it]\n",
      "GLOBAL 35: 100%|██████████| 2/2 [00:08<00:00,  5.00s/it]\n"
     ]
    },
    {
     "name": "stdout",
     "output_type": "stream",
     "text": [
      "\u001b[31m=========================\n",
      "[EPOCH 5 / STEP 35]\n",
      "TRAIN loss     : 0.7370\n",
      "\u001b[34mTRAIN loss[l2] : 0.0115\n",
      "\u001b[32mTRAIN loss[net]: 0.7255\n",
      "\u001b[31mVAL   loss     : 0.7201\n",
      "\u001b[34mVAL   loss[l2] : 0.0133\n",
      "\u001b[32mTRAIN loss[net]: 0.7068\n",
      "\u001b[31mTRAIN acc      : 68.6401%\n",
      "VAL   acc      : 67.2199%\n",
      "saved step 35 in resnet/\n",
      "=========================\u001b[0m\n"
     ]
    },
    {
     "name": "stderr",
     "output_type": "stream",
     "text": [
      "GLOBAL 36: 100%|██████████| 17/17 [00:08<00:00,  1.68s/it]\n",
      "GLOBAL 36: 100%|██████████| 2/2 [00:08<00:00,  4.99s/it]\n"
     ]
    },
    {
     "name": "stdout",
     "output_type": "stream",
     "text": [
      "\u001b[31m=========================\n",
      "[EPOCH 6 / STEP 36]\n",
      "TRAIN loss     : 0.6375\n",
      "\u001b[34mTRAIN loss[l2] : 0.0153\n",
      "\u001b[32mTRAIN loss[net]: 0.6222\n",
      "\u001b[31mVAL   loss     : 0.7717\n",
      "\u001b[34mVAL   loss[l2] : 0.0163\n",
      "\u001b[32mTRAIN loss[net]: 0.7554\n",
      "\u001b[31mTRAIN acc      : 72.7567%\n",
      "VAL   acc      : 65.5602%\n",
      "saved step 36 in resnet/\n",
      "=========================\u001b[0m\n"
     ]
    },
    {
     "name": "stderr",
     "output_type": "stream",
     "text": [
      "GLOBAL 37: 100%|██████████| 17/17 [00:08<00:00,  1.70s/it]\n",
      "GLOBAL 37: 100%|██████████| 2/2 [00:08<00:00,  4.92s/it]\n"
     ]
    },
    {
     "name": "stdout",
     "output_type": "stream",
     "text": [
      "\u001b[31m=========================\n",
      "[EPOCH 7 / STEP 37]\n",
      "TRAIN loss     : 0.5995\n",
      "\u001b[34mTRAIN loss[l2] : 0.0151\n",
      "\u001b[32mTRAIN loss[net]: 0.5844\n",
      "\u001b[31mVAL   loss     : 0.7098\n",
      "\u001b[34mVAL   loss[l2] : 0.0154\n",
      "\u001b[32mTRAIN loss[net]: 0.6944\n",
      "\u001b[31mTRAIN acc      : 74.0056%\n",
      "VAL   acc      : 66.8050%\n",
      "saved step 37 in resnet/\n",
      "=========================\u001b[0m\n"
     ]
    },
    {
     "name": "stderr",
     "output_type": "stream",
     "text": [
      "GLOBAL 38: 100%|██████████| 17/17 [00:08<00:00,  1.65s/it]\n",
      "GLOBAL 38: 100%|██████████| 2/2 [00:08<00:00,  4.93s/it]\n"
     ]
    },
    {
     "name": "stdout",
     "output_type": "stream",
     "text": [
      "\u001b[31m=========================\n",
      "[EPOCH 8 / STEP 38]\n",
      "TRAIN loss     : 0.5123\n",
      "\u001b[34mTRAIN loss[l2] : 0.0177\n",
      "\u001b[32mTRAIN loss[net]: 0.4947\n",
      "\u001b[31mVAL   loss     : 0.4635\n",
      "\u001b[34mVAL   loss[l2] : 0.0203\n",
      "\u001b[32mTRAIN loss[net]: 0.4431\n",
      "\u001b[31mTRAIN acc      : 75.7632%\n",
      "VAL   acc      : 75.1037%\n",
      "saved step 38 in resnet/\n",
      "=========================\u001b[0m\n"
     ]
    },
    {
     "name": "stderr",
     "output_type": "stream",
     "text": [
      "GLOBAL 39: 100%|██████████| 17/17 [00:08<00:00,  1.64s/it]\n",
      "GLOBAL 39: 100%|██████████| 2/2 [00:08<00:00,  4.95s/it]\n"
     ]
    },
    {
     "name": "stdout",
     "output_type": "stream",
     "text": [
      "\u001b[31m=========================\n",
      "[EPOCH 9 / STEP 39]\n",
      "TRAIN loss     : 0.4647\n",
      "\u001b[34mTRAIN loss[l2] : 0.0205\n",
      "\u001b[32mTRAIN loss[net]: 0.4442\n",
      "\u001b[31mVAL   loss     : 0.4119\n",
      "\u001b[34mVAL   loss[l2] : 0.0213\n",
      "\u001b[32mTRAIN loss[net]: 0.3907\n",
      "\u001b[31mTRAIN acc      : 80.4810%\n",
      "VAL   acc      : 80.0830%\n",
      "saved step 39 in resnet/\n",
      "=========================\u001b[0m\n"
     ]
    },
    {
     "name": "stderr",
     "output_type": "stream",
     "text": [
      "GLOBAL 40: 100%|██████████| 17/17 [00:08<00:00,  1.68s/it]\n",
      "GLOBAL 40: 100%|██████████| 2/2 [00:08<00:00,  5.01s/it]\n"
     ]
    },
    {
     "name": "stdout",
     "output_type": "stream",
     "text": [
      "\u001b[31m=========================\n",
      "[EPOCH 10 / STEP 40]\n",
      "TRAIN loss     : 0.3905\n",
      "\u001b[34mTRAIN loss[l2] : 0.0210\n",
      "\u001b[32mTRAIN loss[net]: 0.3695\n",
      "\u001b[31mVAL   loss     : 0.3654\n",
      "\u001b[34mVAL   loss[l2] : 0.0204\n",
      "\u001b[32mTRAIN loss[net]: 0.3450\n",
      "\u001b[31mTRAIN acc      : 84.1813%\n",
      "VAL   acc      : 84.6473%\n",
      "saved step 40 in resnet/\n",
      "=========================\u001b[0m\n"
     ]
    },
    {
     "name": "stderr",
     "output_type": "stream",
     "text": [
      "GLOBAL 41: 100%|██████████| 17/17 [00:08<00:00,  1.65s/it]\n",
      "GLOBAL 41: 100%|██████████| 2/2 [00:08<00:00,  4.99s/it]\n"
     ]
    },
    {
     "name": "stdout",
     "output_type": "stream",
     "text": [
      "\u001b[31m=========================\n",
      "[EPOCH 11 / STEP 41]\n",
      "TRAIN loss     : 0.3356\n",
      "\u001b[34mTRAIN loss[l2] : 0.0203\n",
      "\u001b[32mTRAIN loss[net]: 0.3153\n",
      "\u001b[31mVAL   loss     : 0.2941\n",
      "\u001b[34mVAL   loss[l2] : 0.0203\n",
      "\u001b[32mTRAIN loss[net]: 0.2738\n",
      "\u001b[31mTRAIN acc      : 87.1415%\n",
      "VAL   acc      : 89.6266%\n",
      "saved step 41 in resnet/\n",
      "=========================\u001b[0m\n"
     ]
    },
    {
     "name": "stderr",
     "output_type": "stream",
     "text": [
      "GLOBAL 42: 100%|██████████| 17/17 [00:08<00:00,  1.65s/it]\n",
      "GLOBAL 42: 100%|██████████| 2/2 [00:08<00:00,  4.98s/it]\n"
     ]
    },
    {
     "name": "stdout",
     "output_type": "stream",
     "text": [
      "\u001b[31m=========================\n",
      "[EPOCH 12 / STEP 42]\n",
      "TRAIN loss     : 0.2832\n",
      "\u001b[34mTRAIN loss[l2] : 0.0205\n",
      "\u001b[32mTRAIN loss[net]: 0.2627\n",
      "\u001b[31mVAL   loss     : 0.2635\n",
      "\u001b[34mVAL   loss[l2] : 0.0199\n",
      "\u001b[32mTRAIN loss[net]: 0.2436\n",
      "\u001b[31mTRAIN acc      : 90.6568%\n",
      "VAL   acc      : 91.2863%\n",
      "saved step 42 in resnet/\n",
      "=========================\u001b[0m\n"
     ]
    },
    {
     "name": "stderr",
     "output_type": "stream",
     "text": [
      "GLOBAL 43: 100%|██████████| 17/17 [00:08<00:00,  1.64s/it]\n",
      "GLOBAL 43: 100%|██████████| 2/2 [00:08<00:00,  4.99s/it]\n"
     ]
    },
    {
     "name": "stdout",
     "output_type": "stream",
     "text": [
      "\u001b[31m=========================\n",
      "[EPOCH 13 / STEP 43]\n",
      "TRAIN loss     : 0.2481\n",
      "\u001b[34mTRAIN loss[l2] : 0.0192\n",
      "\u001b[32mTRAIN loss[net]: 0.2289\n",
      "\u001b[31mVAL   loss     : 0.2301\n",
      "\u001b[34mVAL   loss[l2] : 0.0177\n",
      "\u001b[32mTRAIN loss[net]: 0.2124\n",
      "\u001b[31mTRAIN acc      : 92.2757%\n",
      "VAL   acc      : 92.5311%\n",
      "saved step 43 in resnet/\n",
      "=========================\u001b[0m\n"
     ]
    },
    {
     "name": "stderr",
     "output_type": "stream",
     "text": [
      "GLOBAL 44: 100%|██████████| 17/17 [00:08<00:00,  1.67s/it]\n",
      "GLOBAL 44: 100%|██████████| 2/2 [00:08<00:00,  4.99s/it]\n"
     ]
    },
    {
     "name": "stdout",
     "output_type": "stream",
     "text": [
      "\u001b[31m=========================\n",
      "[EPOCH 14 / STEP 44]\n",
      "TRAIN loss     : 0.2133\n",
      "\u001b[34mTRAIN loss[l2] : 0.0178\n",
      "\u001b[32mTRAIN loss[net]: 0.1955\n",
      "\u001b[31mVAL   loss     : 0.2602\n",
      "\u001b[34mVAL   loss[l2] : 0.0181\n",
      "\u001b[32mTRAIN loss[net]: 0.2422\n",
      "\u001b[31mTRAIN acc      : 94.1258%\n",
      "VAL   acc      : 92.1162%\n",
      "saved step 44 in resnet/\n",
      "=========================\u001b[0m\n"
     ]
    },
    {
     "name": "stderr",
     "output_type": "stream",
     "text": [
      "GLOBAL 45: 100%|██████████| 17/17 [00:08<00:00,  1.92it/s]\n",
      "GLOBAL 45: 100%|██████████| 2/2 [00:08<00:00,  4.89s/it]\n"
     ]
    },
    {
     "name": "stdout",
     "output_type": "stream",
     "text": [
      "\u001b[31m=========================\n",
      "[EPOCH 15 / STEP 45]\n",
      "TRAIN loss     : 0.1811\n",
      "\u001b[34mTRAIN loss[l2] : 0.0175\n",
      "\u001b[32mTRAIN loss[net]: 0.1636\n",
      "\u001b[31mVAL   loss     : 0.2008\n",
      "\u001b[34mVAL   loss[l2] : 0.0172\n",
      "\u001b[32mTRAIN loss[net]: 0.1836\n",
      "\u001b[31mTRAIN acc      : 95.0971%\n",
      "VAL   acc      : 94.6058%\n",
      "saved step 45 in resnet/\n",
      "=========================\u001b[0m\n"
     ]
    },
    {
     "name": "stderr",
     "output_type": "stream",
     "text": [
      "GLOBAL 46: 100%|██████████| 17/17 [00:08<00:00,  1.64s/it]\n",
      "GLOBAL 46: 100%|██████████| 2/2 [00:08<00:00,  4.92s/it]\n"
     ]
    },
    {
     "name": "stdout",
     "output_type": "stream",
     "text": [
      "\u001b[31m=========================\n",
      "[EPOCH 16 / STEP 46]\n",
      "TRAIN loss     : 0.1739\n",
      "\u001b[34mTRAIN loss[l2] : 0.0157\n",
      "\u001b[32mTRAIN loss[net]: 0.1582\n",
      "\u001b[31mVAL   loss     : 0.1465\n",
      "\u001b[34mVAL   loss[l2] : 0.0144\n",
      "\u001b[32mTRAIN loss[net]: 0.1320\n",
      "\u001b[31mTRAIN acc      : 94.9121%\n",
      "VAL   acc      : 95.4357%\n",
      "saved step 46 in resnet/\n",
      "=========================\u001b[0m\n"
     ]
    },
    {
     "name": "stderr",
     "output_type": "stream",
     "text": [
      "GLOBAL 47: 100%|██████████| 17/17 [00:08<00:00,  1.65s/it]\n",
      "GLOBAL 47: 100%|██████████| 2/2 [00:08<00:00,  5.00s/it]\n"
     ]
    },
    {
     "name": "stdout",
     "output_type": "stream",
     "text": [
      "\u001b[31m=========================\n",
      "[EPOCH 17 / STEP 47]\n",
      "TRAIN loss     : 0.1400\n",
      "\u001b[34mTRAIN loss[l2] : 0.0141\n",
      "\u001b[32mTRAIN loss[net]: 0.1259\n",
      "\u001b[31mVAL   loss     : 0.1353\n",
      "\u001b[34mVAL   loss[l2] : 0.0145\n",
      "\u001b[32mTRAIN loss[net]: 0.1208\n",
      "\u001b[31mTRAIN acc      : 96.1147%\n",
      "VAL   acc      : 95.0207%\n",
      "saved step 47 in resnet/\n",
      "=========================\u001b[0m\n"
     ]
    },
    {
     "name": "stderr",
     "output_type": "stream",
     "text": [
      "GLOBAL 48: 100%|██████████| 17/17 [00:08<00:00,  1.67s/it]\n",
      "GLOBAL 48: 100%|██████████| 2/2 [00:08<00:00,  4.99s/it]\n"
     ]
    },
    {
     "name": "stdout",
     "output_type": "stream",
     "text": [
      "\u001b[31m=========================\n",
      "[EPOCH 18 / STEP 48]\n",
      "TRAIN loss     : 0.1167\n",
      "\u001b[34mTRAIN loss[l2] : 0.0147\n",
      "\u001b[32mTRAIN loss[net]: 0.1020\n",
      "\u001b[31mVAL   loss     : 0.1544\n",
      "\u001b[34mVAL   loss[l2] : 0.0140\n",
      "\u001b[32mTRAIN loss[net]: 0.1404\n",
      "\u001b[31mTRAIN acc      : 97.2248%\n",
      "VAL   acc      : 95.8506%\n",
      "saved step 48 in resnet/\n",
      "=========================\u001b[0m\n"
     ]
    },
    {
     "name": "stderr",
     "output_type": "stream",
     "text": [
      "GLOBAL 49: 100%|██████████| 17/17 [00:08<00:00,  1.66s/it]\n",
      "GLOBAL 49: 100%|██████████| 2/2 [00:08<00:00,  4.99s/it]\n"
     ]
    },
    {
     "name": "stdout",
     "output_type": "stream",
     "text": [
      "\u001b[31m=========================\n",
      "[EPOCH 19 / STEP 49]\n",
      "TRAIN loss     : 0.1103\n",
      "\u001b[34mTRAIN loss[l2] : 0.0131\n",
      "\u001b[32mTRAIN loss[net]: 0.0971\n",
      "\u001b[31mVAL   loss     : 0.1678\n",
      "\u001b[34mVAL   loss[l2] : 0.0132\n",
      "\u001b[32mTRAIN loss[net]: 0.1546\n",
      "\u001b[31mTRAIN acc      : 97.1323%\n",
      "VAL   acc      : 95.4357%\n",
      "saved step 49 in resnet/\n",
      "=========================\u001b[0m\n"
     ]
    },
    {
     "name": "stderr",
     "output_type": "stream",
     "text": [
      "GLOBAL 50: 100%|██████████| 17/17 [00:08<00:00,  1.65s/it]\n",
      "GLOBAL 50: 100%|██████████| 2/2 [00:08<00:00,  4.99s/it]\n"
     ]
    },
    {
     "name": "stdout",
     "output_type": "stream",
     "text": [
      "\u001b[31m=========================\n",
      "[EPOCH 20 / STEP 50]\n",
      "TRAIN loss     : 0.1225\n",
      "\u001b[34mTRAIN loss[l2] : 0.0121\n",
      "\u001b[32mTRAIN loss[net]: 0.1104\n",
      "\u001b[31mVAL   loss     : 0.1409\n",
      "\u001b[34mVAL   loss[l2] : 0.0108\n",
      "\u001b[32mTRAIN loss[net]: 0.1300\n",
      "\u001b[31mTRAIN acc      : 96.7160%\n",
      "VAL   acc      : 95.8506%\n",
      "saved step 50 in resnet/\n",
      "=========================\u001b[0m\n"
     ]
    },
    {
     "name": "stderr",
     "output_type": "stream",
     "text": [
      "GLOBAL 51: 100%|██████████| 17/17 [00:08<00:00,  1.65s/it]\n",
      "GLOBAL 51: 100%|██████████| 2/2 [00:08<00:00,  5.00s/it]\n"
     ]
    },
    {
     "name": "stdout",
     "output_type": "stream",
     "text": [
      "\u001b[31m=========================\n",
      "[EPOCH 21 / STEP 51]\n",
      "TRAIN loss     : 0.0983\n",
      "\u001b[34mTRAIN loss[l2] : 0.0114\n",
      "\u001b[32mTRAIN loss[net]: 0.0868\n",
      "\u001b[31mVAL   loss     : 0.1331\n",
      "\u001b[34mVAL   loss[l2] : 0.0117\n",
      "\u001b[32mTRAIN loss[net]: 0.1215\n",
      "\u001b[31mTRAIN acc      : 97.5948%\n",
      "VAL   acc      : 95.0207%\n",
      "saved step 51 in resnet/\n",
      "=========================\u001b[0m\n"
     ]
    },
    {
     "name": "stderr",
     "output_type": "stream",
     "text": [
      "GLOBAL 52: 100%|██████████| 17/17 [00:08<00:00,  1.67s/it]\n",
      "GLOBAL 52: 100%|██████████| 2/2 [00:08<00:00,  4.99s/it]\n"
     ]
    },
    {
     "name": "stdout",
     "output_type": "stream",
     "text": [
      "\u001b[31m=========================\n",
      "[EPOCH 22 / STEP 52]\n",
      "TRAIN loss     : 0.0961\n",
      "\u001b[34mTRAIN loss[l2] : 0.0116\n",
      "\u001b[32mTRAIN loss[net]: 0.0845\n",
      "\u001b[31mVAL   loss     : 0.1735\n",
      "\u001b[34mVAL   loss[l2] : 0.0112\n",
      "\u001b[32mTRAIN loss[net]: 0.1623\n",
      "\u001b[31mTRAIN acc      : 97.5486%\n",
      "VAL   acc      : 93.3610%\n",
      "saved step 52 in resnet/\n",
      "=========================\u001b[0m\n"
     ]
    },
    {
     "name": "stderr",
     "output_type": "stream",
     "text": [
      "GLOBAL 53: 100%|██████████| 17/17 [00:08<00:00,  1.68s/it]\n",
      "GLOBAL 53: 100%|██████████| 2/2 [00:08<00:00,  4.99s/it]\n"
     ]
    },
    {
     "name": "stdout",
     "output_type": "stream",
     "text": [
      "\u001b[31m=========================\n",
      "[EPOCH 23 / STEP 53]\n",
      "TRAIN loss     : 0.1100\n",
      "\u001b[34mTRAIN loss[l2] : 0.0110\n",
      "\u001b[32mTRAIN loss[net]: 0.0990\n",
      "\u001b[31mVAL   loss     : 0.1396\n",
      "\u001b[34mVAL   loss[l2] : 0.0100\n",
      "\u001b[32mTRAIN loss[net]: 0.1296\n",
      "\u001b[31mTRAIN acc      : 96.6698%\n",
      "VAL   acc      : 95.8506%\n",
      "saved step 53 in resnet/\n",
      "=========================\u001b[0m\n"
     ]
    },
    {
     "name": "stderr",
     "output_type": "stream",
     "text": [
      "GLOBAL 54: 100%|██████████| 17/17 [00:08<00:00,  1.67s/it]\n",
      "GLOBAL 54: 100%|██████████| 2/2 [00:08<00:00,  5.14s/it]\n"
     ]
    },
    {
     "name": "stdout",
     "output_type": "stream",
     "text": [
      "\u001b[31m=========================\n",
      "[EPOCH 24 / STEP 54]\n",
      "TRAIN loss     : 0.0835\n",
      "\u001b[34mTRAIN loss[l2] : 0.0099\n",
      "\u001b[32mTRAIN loss[net]: 0.0736\n",
      "\u001b[31mVAL   loss     : 0.1253\n",
      "\u001b[34mVAL   loss[l2] : 0.0108\n",
      "\u001b[32mTRAIN loss[net]: 0.1145\n",
      "\u001b[31mTRAIN acc      : 98.1499%\n",
      "VAL   acc      : 96.2656%\n",
      "saved step 54 in resnet/\n",
      "=========================\u001b[0m\n"
     ]
    },
    {
     "name": "stderr",
     "output_type": "stream",
     "text": [
      "GLOBAL 55: 100%|██████████| 17/17 [00:08<00:00,  1.67s/it]\n",
      "GLOBAL 55: 100%|██████████| 2/2 [00:08<00:00,  4.93s/it]\n"
     ]
    },
    {
     "name": "stdout",
     "output_type": "stream",
     "text": [
      "\u001b[31m=========================\n",
      "[EPOCH 25 / STEP 55]\n",
      "TRAIN loss     : 0.0723\n",
      "\u001b[34mTRAIN loss[l2] : 0.0107\n",
      "\u001b[32mTRAIN loss[net]: 0.0616\n",
      "\u001b[31mVAL   loss     : 0.1528\n",
      "\u001b[34mVAL   loss[l2] : 0.0103\n",
      "\u001b[32mTRAIN loss[net]: 0.1425\n",
      "\u001b[31mTRAIN acc      : 98.2424%\n",
      "VAL   acc      : 96.2656%\n",
      "saved step 55 in resnet/\n",
      "=========================\u001b[0m\n"
     ]
    },
    {
     "name": "stderr",
     "output_type": "stream",
     "text": [
      "GLOBAL 56: 100%|██████████| 17/17 [00:08<00:00,  1.68s/it]\n",
      "GLOBAL 56: 100%|██████████| 2/2 [00:08<00:00,  5.01s/it]\n"
     ]
    },
    {
     "name": "stdout",
     "output_type": "stream",
     "text": [
      "\u001b[31m=========================\n",
      "[EPOCH 26 / STEP 56]\n",
      "TRAIN loss     : 0.0672\n",
      "\u001b[34mTRAIN loss[l2] : 0.0099\n",
      "\u001b[32mTRAIN loss[net]: 0.0573\n",
      "\u001b[31mVAL   loss     : 0.1208\n",
      "\u001b[34mVAL   loss[l2] : 0.0095\n",
      "\u001b[32mTRAIN loss[net]: 0.1113\n",
      "\u001b[31mTRAIN acc      : 98.4274%\n",
      "VAL   acc      : 96.6805%\n",
      "saved step 56 in resnet/\n",
      "=========================\u001b[0m\n"
     ]
    },
    {
     "name": "stderr",
     "output_type": "stream",
     "text": [
      "GLOBAL 57: 100%|██████████| 17/17 [00:08<00:00,  1.67s/it]\n",
      "GLOBAL 57: 100%|██████████| 2/2 [00:08<00:00,  5.00s/it]\n"
     ]
    },
    {
     "name": "stdout",
     "output_type": "stream",
     "text": [
      "\u001b[31m=========================\n",
      "[EPOCH 27 / STEP 57]\n",
      "TRAIN loss     : 0.0625\n",
      "\u001b[34mTRAIN loss[l2] : 0.0090\n",
      "\u001b[32mTRAIN loss[net]: 0.0535\n",
      "\u001b[31mVAL   loss     : 0.1583\n",
      "\u001b[34mVAL   loss[l2] : 0.0086\n",
      "\u001b[32mTRAIN loss[net]: 0.1497\n",
      "\u001b[31mTRAIN acc      : 98.6124%\n",
      "VAL   acc      : 95.0207%\n",
      "saved step 57 in resnet/\n",
      "=========================\u001b[0m\n"
     ]
    },
    {
     "name": "stderr",
     "output_type": "stream",
     "text": [
      "GLOBAL 58: 100%|██████████| 17/17 [00:08<00:00,  1.68s/it]\n",
      "GLOBAL 58: 100%|██████████| 2/2 [00:08<00:00,  4.99s/it]\n"
     ]
    },
    {
     "name": "stdout",
     "output_type": "stream",
     "text": [
      "\u001b[31m=========================\n",
      "[EPOCH 28 / STEP 58]\n",
      "TRAIN loss     : 0.0883\n",
      "\u001b[34mTRAIN loss[l2] : 0.0079\n",
      "\u001b[32mTRAIN loss[net]: 0.0804\n",
      "\u001b[31mVAL   loss     : 0.1566\n",
      "\u001b[34mVAL   loss[l2] : 0.0074\n",
      "\u001b[32mTRAIN loss[net]: 0.1492\n",
      "\u001b[31mTRAIN acc      : 97.9186%\n",
      "VAL   acc      : 95.0207%\n",
      "saved step 58 in resnet/\n",
      "=========================\u001b[0m\n"
     ]
    },
    {
     "name": "stderr",
     "output_type": "stream",
     "text": [
      "GLOBAL 59: 100%|██████████| 17/17 [00:08<00:00,  1.64s/it]\n",
      "GLOBAL 59: 100%|██████████| 2/2 [00:08<00:00,  5.00s/it]\n"
     ]
    },
    {
     "name": "stdout",
     "output_type": "stream",
     "text": [
      "\u001b[31m=========================\n",
      "[EPOCH 29 / STEP 59]\n",
      "TRAIN loss     : 0.0688\n",
      "\u001b[34mTRAIN loss[l2] : 0.0088\n",
      "\u001b[32mTRAIN loss[net]: 0.0600\n",
      "\u001b[31mVAL   loss     : 0.2060\n",
      "\u001b[34mVAL   loss[l2] : 0.0091\n",
      "\u001b[32mTRAIN loss[net]: 0.1969\n",
      "\u001b[31mTRAIN acc      : 98.4274%\n",
      "VAL   acc      : 94.6058%\n",
      "saved step 59 in resnet/\n",
      "=========================\u001b[0m\n"
     ]
    },
    {
     "name": "stderr",
     "output_type": "stream",
     "text": [
      "GLOBAL 60: 100%|██████████| 17/17 [00:08<00:00,  1.64s/it]\n",
      "GLOBAL 60: 100%|██████████| 2/2 [00:08<00:00,  5.01s/it]\n"
     ]
    },
    {
     "name": "stdout",
     "output_type": "stream",
     "text": [
      "\u001b[31m=========================\n",
      "[EPOCH 30 / STEP 60]\n",
      "TRAIN loss     : 0.0554\n",
      "\u001b[34mTRAIN loss[l2] : 0.0084\n",
      "\u001b[32mTRAIN loss[net]: 0.0470\n",
      "\u001b[31mVAL   loss     : 0.1888\n",
      "\u001b[34mVAL   loss[l2] : 0.0078\n",
      "\u001b[32mTRAIN loss[net]: 0.1810\n",
      "\u001b[31mTRAIN acc      : 98.7974%\n",
      "VAL   acc      : 95.8506%\n",
      "saved step 60 in resnet/\n",
      "=========================\u001b[0m\n"
     ]
    }
   ],
   "source": [
    "lstm_model.fit(make_input_rnn(X_train_train), y_train_train_idx, make_input_rnn(X_train_val), y_train_val_idx, 30, 1, 128, saving=True,tqdm_option=\"normal\")"
   ]
  },
  {
   "cell_type": "code",
   "execution_count": 74,
   "metadata": {},
   "outputs": [
    {
     "name": "stdout",
     "output_type": "stream",
     "text": [
      "INFO:tensorflow:Restoring parameters from resnet/-56\n"
     ]
    }
   ],
   "source": [
    "lstm_model.load(56)"
   ]
  },
  {
   "cell_type": "code",
   "execution_count": 75,
   "metadata": {},
   "outputs": [
    {
     "data": {
      "text/plain": [
       "0.9633943427620633"
      ]
     },
     "execution_count": 75,
     "metadata": {},
     "output_type": "execute_result"
    }
   ],
   "source": [
    "pred  = tf.argmax(lstm_model(tf.convert_to_tensor(make_input_rnn(X_test)), False), axis=1).numpy()\n",
    "sum(np.equal(y_test_idx , pred)) / len(y_test_idx)"
   ]
  },
  {
   "cell_type": "markdown",
   "metadata": {},
   "source": [
    "## Visualization <a class=\"anchor\" id=\"3\"></a>"
   ]
  },
  {
   "cell_type": "code",
   "execution_count": 64,
   "metadata": {},
   "outputs": [],
   "source": [
    "from sklearn.metrics import confusion_matrix"
   ]
  },
  {
   "cell_type": "code",
   "execution_count": 65,
   "metadata": {},
   "outputs": [],
   "source": [
    "import matplotlib.pyplot as plt\n",
    "import seaborn as sns\n",
    "%matplotlib inline"
   ]
  },
  {
   "cell_type": "code",
   "execution_count": 67,
   "metadata": {},
   "outputs": [],
   "source": [
    "ticklabel = [idx2class[0], idx2class[1], idx2class[2]]"
   ]
  },
  {
   "cell_type": "code",
   "execution_count": 96,
   "metadata": {},
   "outputs": [],
   "source": [
    "pred_leg = [class2idx[p] for p in logreg_best.predict(make_input_classic(X_test))]\n",
    "pred_svm = [class2idx[p] for p in svm_best.predict(make_input_classic(X_test))]\n",
    "pred_xgb = [class2idx[p] for p in xgb_best.predict(make_input_classic(X_test))]\n",
    "pred_fcn = tf.argmax(fcn_model(tf.convert_to_tensor(make_input_fcn(X_test)), False), axis=1).numpy()\n",
    "pred_cnn = tf.argmax(resnet_model(tf.convert_to_tensor(make_input_cnn(X_test)), False), axis=1).numpy()\n",
    "pred_rnn  = tf.argmax(lstm_model(tf.convert_to_tensor(make_input_rnn(X_test)), False), axis=1).numpy()\n"
   ]
  },
  {
   "cell_type": "code",
   "execution_count": 98,
   "metadata": {},
   "outputs": [
    {
     "data": {
      "text/plain": [
       "<matplotlib.axes._subplots.AxesSubplot at 0x7efc34cb7668>"
      ]
     },
     "execution_count": 98,
     "metadata": {},
     "output_type": "execute_result"
    },
    {
     "data": {
      "image/png": "[encoded data removed]",
      "text/plain": [
       "<Figure size 864x864 with 12 Axes>"
      ]
     },
     "metadata": {
      "needs_background": "light"
     },
     "output_type": "display_data"
    }
   ],
   "source": [
    "fig, axs = plt.subplots(ncols=2, nrows=3, figsize=(12,12))\n",
    "axs[0][0].set_title(\"Logistic Regression\")\n",
    "axs[0][1].set_title(\"SVM\")\n",
    "axs[1][0].set_title(\"Xgboost\")\n",
    "axs[1][1].set_title(\"FCN\")\n",
    "axs[2][0].set_title(\"CNN\")\n",
    "axs[2][1].set_title(\"RNN\")\n",
    "\n",
    "sns.heatmap(confusion_matrix(y_test_idx, pred_leg), ax=axs[0][0],cmap=\"viridis\", annot=True, xticklabels=ticklabel, yticklabels=ticklabel)\n",
    "sns.heatmap(confusion_matrix(y_test_idx, pred_svm), ax=axs[0][1],cmap=\"viridis\", annot=True, xticklabels=ticklabel, yticklabels=ticklabel)\n",
    "sns.heatmap(confusion_matrix(y_test_idx, pred_xgb), ax=axs[1][0],cmap=\"viridis\", annot=True, xticklabels=ticklabel, yticklabels=ticklabel)\n",
    "sns.heatmap(confusion_matrix(y_test_idx, pred_fcn), ax=axs[1][1],cmap=\"viridis\", annot=True, xticklabels=ticklabel, yticklabels=ticklabel)\n",
    "sns.heatmap(confusion_matrix(y_test_idx, pred_cnn), ax=axs[2][0],cmap=\"viridis\", annot=True, xticklabels=ticklabel, yticklabels=ticklabel)\n",
    "sns.heatmap(confusion_matrix(y_test_idx, pred_rnn), ax=axs[2][1],cmap=\"viridis\", annot=True, xticklabels=ticklabel, yticklabels=ticklabel)\n"
   ]
  },
  {
   "cell_type": "markdown",
   "metadata": {},
   "source": [
    "- Some models are strong in different classes. ensembling may works."
   ]
  },
  {
   "cell_type": "markdown",
   "metadata": {},
   "source": [
    "# Conclusion <a class=\"anchor\" id=\"4\"></a>\n"
   ]
  },
  {
   "cell_type": "markdown",
   "metadata": {},
   "source": [
    "## Summary(after many trial...)"
   ]
  },
  {
   "cell_type": "markdown",
   "metadata": {},
   "source": [
    "## Experiment environment\n",
    "- `ubuntu 16.04`\n",
    "- `python 3.67`\n",
    "- `GTX-1080ti with CUDA9 CUDNN 7.13`\n",
    "- `library dependency in requirements.txt`\n",
    "\n",
    "`metric` : accuracy and softmax cross-entropy(tree, neural networks)"
   ]
  },
  {
   "cell_type": "markdown",
   "metadata": {},
   "source": [
    "## Classical ML Algorithms \n",
    "`Logistic Regression` : Fast and poor.\n",
    "\n",
    "`SVM` : Little bit slow and poor.\n",
    "\n",
    "`Tree boosting` : Little bit slow(when using a big n_estimators), many tunable parameters."
   ]
  },
  {
   "cell_type": "markdown",
   "metadata": {},
   "source": [
    "## Deep Learning Algorithms\n",
    "`FCN` : Easily Overfitted(even though used L2norm & Dropout)\n",
    "\n",
    "`CNN` : Relatively fast with many parameters and deep structure.\n",
    "\n",
    "`RNN` : Slow but strongest. Can handle variable length(not this case with fixed length(60))"
   ]
  },
  {
   "cell_type": "markdown",
   "metadata": {},
   "source": [
    "## My opinion\n",
    "\n",
    "It's too small dataset, so that main issue was handling overfitting.(every model can easily get 100% train accuracy)\n",
    "\n",
    "***Classical Machine Learnings*** are relatively time - space efficient. so parameter tuning and ensembling can make good result. specially small input-label dimension case like this dataset.\n",
    "\n",
    "***Deep Learning Algorithms*** are relatively time-space inefficient. better performance in more complicated case(expand dimension using embedding works).rnn or padding with positional encoding can handle varialbe length case."
   ]
  }
 ],
 "metadata": {
  "kernelspec": {
   "display_name": "clasic36",
   "language": "python",
   "name": "classic36"
  },
  "language_info": {
   "codemirror_mode": {
    "name": "ipython",
    "version": 3
   },
   "file_extension": ".py",
   "mimetype": "text/x-python",
   "name": "python",
   "nbconvert_exporter": "python",
   "pygments_lexer": "ipython3",
   "version": "3.6.7"
  }
 },
 "nbformat": 4,
 "nbformat_minor": 2
}
